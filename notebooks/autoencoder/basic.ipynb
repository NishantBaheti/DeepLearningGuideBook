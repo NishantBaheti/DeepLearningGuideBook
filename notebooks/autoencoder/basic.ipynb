{
 "cells": [
  {
   "cell_type": "markdown",
   "id": "380e4c91-04d2-49c5-919e-d0f1cd1075cf",
   "metadata": {},
   "source": [
    "# Basic AutoEncoders\n",
    "\n",
    "\n",
    "\n",
    "\n",
    "\n",
    "```\n",
    "                                       +---+                                          \n",
    "                                       |   |    \n",
    "                                       | C |   \n",
    "                +----------------+     | O |         +-----------------+\n",
    "          -->   |    Encoder     | --> | D |  -->    |     Decoder     | --> \n",
    "                +----------------+     | E |         +-----------------+\n",
    "                                       |   |\n",
    "                                       |   |   \n",
    "                                       |   |\n",
    "                                       +---+\n",
    "```"
   ]
  },
  {
   "cell_type": "code",
   "execution_count": 18,
   "id": "f41cfe86-0ef7-40b3-a3f0-bf50fd0dff84",
   "metadata": {},
   "outputs": [],
   "source": [
    "import warnings\n",
    "\n",
    "warnings.filterwarnings('ignore')"
   ]
  },
  {
   "cell_type": "code",
   "execution_count": 19,
   "id": "29b0bf7e-22f1-4167-b0c9-4115588c778d",
   "metadata": {},
   "outputs": [],
   "source": [
    "import numpy as np\n",
    "from tensorflow import keras\n",
    "import matplotlib.pyplot as plt"
   ]
  },
  {
   "cell_type": "code",
   "execution_count": 20,
   "id": "de592619-7b3d-4ba2-a958-faf5ea6c7fec",
   "metadata": {},
   "outputs": [],
   "source": [
    "(X_train, y_train), (X_test, y_test) = keras.datasets.mnist.load_data()"
   ]
  },
  {
   "cell_type": "code",
   "execution_count": 21,
   "id": "755512ad-a276-4c20-ab15-3296c8014496",
   "metadata": {},
   "outputs": [
    {
     "data": {
      "text/plain": [
       "((60000, 28, 28), (10000, 28, 28), (60000,), (10000,))"
      ]
     },
     "execution_count": 21,
     "metadata": {},
     "output_type": "execute_result"
    }
   ],
   "source": [
    "X_train.shape, X_test.shape, y_train.shape, y_test.shape"
   ]
  },
  {
   "cell_type": "code",
   "execution_count": 22,
   "id": "bda4d77e-8432-4533-8dce-b6244fc5f61c",
   "metadata": {},
   "outputs": [
    {
     "data": {
      "text/plain": [
       "(5, <matplotlib.image.AxesImage at 0x7fe9d81fb760>)"
      ]
     },
     "execution_count": 22,
     "metadata": {},
     "output_type": "execute_result"
    },
    {
     "data": {
      "image/png": "[encoded data removed]",
      "text/plain": [
       "<Figure size 432x288 with 1 Axes>"
      ]
     },
     "metadata": {
      "needs_background": "light"
     },
     "output_type": "display_data"
    }
   ],
   "source": [
    "y_train[0], plt.imshow(X_train[0], cmap='gray')"
   ]
  },
  {
   "cell_type": "code",
   "execution_count": 23,
   "id": "7bc5315f-a615-45ce-b14b-2d7be748931b",
   "metadata": {},
   "outputs": [],
   "source": [
    "X_train = X_train/255\n",
    "X_test = X_test/255"
   ]
  },
  {
   "cell_type": "markdown",
   "id": "d3192d9d-462c-46d2-bc6a-4a8a302cb2d9",
   "metadata": {},
   "source": [
    "## Architecture"
   ]
  },
  {
   "cell_type": "code",
   "execution_count": 34,
   "id": "be5ee1f5-d66e-4e07-9242-84eadda9092a",
   "metadata": {},
   "outputs": [],
   "source": [
    "INPUT_SHAPE = (28, 28, 1)"
   ]
  },
  {
   "cell_type": "code",
   "execution_count": 35,
   "id": "8c35582b-02e6-476b-b421-e9fba84cf07f",
   "metadata": {},
   "outputs": [],
   "source": [
    "encoder_input = keras.layers.Input(shape=INPUT_SHAPE, name='input-layer')\n",
    "flatten_layer = keras.layers.Flatten()(encoder_input)\n",
    "encoder_output = keras.layers.Dense(units=64, activation=\"relu\", name='encoder')(flatten_layer)\n",
    "hidden_layer2 = keras.layers.Dense(units=28*28, activation=\"relu\", name='hidden-layer2')(encoder_output)\n",
    "decoder_output = keras.layers.Reshape(target_shape=INPUT_SHAPE, name='decoder')(hidden_layer2)"
   ]
  },
  {
   "cell_type": "code",
   "execution_count": 36,
   "id": "eb7a22a9-5619-4408-9358-8427d6d702e5",
   "metadata": {},
   "outputs": [],
   "source": [
    "encoder = keras.Model(inputs=encoder_input, outputs=encoder_output)\n",
    "auto_encoder = keras.Model(inputs=encoder_input, outputs=decoder_output)"
   ]
  },
  {
   "cell_type": "code",
   "execution_count": 37,
   "id": "49ea020e-cca8-4eb0-8667-7ee79cff4102",
   "metadata": {},
   "outputs": [
    {
     "name": "stdout",
     "output_type": "stream",
     "text": [
      "Model: \"model_5\"\n",
      "_________________________________________________________________\n",
      " Layer (type)                Output Shape              Param #   \n",
      "=================================================================\n",
      " input-layer (InputLayer)    [(None, 28, 28, 1)]       0         \n",
      "                                                                 \n",
      " flatten_2 (Flatten)         (None, 784)               0         \n",
      "                                                                 \n",
      " encoder (Dense)             (None, 64)                50240     \n",
      "                                                                 \n",
      " hidden-layer2 (Dense)       (None, 784)               50960     \n",
      "                                                                 \n",
      " decoder (Reshape)           (None, 28, 28, 1)         0         \n",
      "                                                                 \n",
      "=================================================================\n",
      "Total params: 101,200\n",
      "Trainable params: 101,200\n",
      "Non-trainable params: 0\n",
      "_________________________________________________________________\n"
     ]
    }
   ],
   "source": [
    "auto_encoder.summary()"
   ]
  },
  {
   "cell_type": "code",
   "execution_count": 38,
   "id": "17567dcc-aa61-4582-9239-730d58505652",
   "metadata": {},
   "outputs": [],
   "source": [
    "opt = keras.optimizers.Adam(learning_rate=0.001)\n",
    "\n",
    "auto_encoder.compile(opt, loss='mse')"
   ]
  },
  {
   "cell_type": "code",
   "execution_count": 39,
   "id": "1a458188-2520-4463-b252-486ee238eadd",
   "metadata": {},
   "outputs": [
    {
     "name": "stdout",
     "output_type": "stream",
     "text": [
      "1688/1688 [==============================] - 10s 5ms/step - loss: 0.0170 - val_loss: 0.0115\n",
      "1688/1688 [==============================] - 9s 5ms/step - loss: 0.0110 - val_loss: 0.0107\n",
      "1688/1688 [==============================] - 9s 5ms/step - loss: 0.0105 - val_loss: 0.0104\n"
     ]
    }
   ],
   "source": [
    "epochs=3\n",
    "\n",
    "for epoch in range(epochs):\n",
    "\n",
    "    history = auto_encoder.fit(\n",
    "        X_train,\n",
    "        X_train,\n",
    "        epochs=1, \n",
    "        batch_size=32, validation_split=0.10)   "
   ]
  },
  {
   "cell_type": "code",
   "execution_count": 40,
   "id": "15449275-f3df-4069-ba66-3b2fff6c26c5",
   "metadata": {},
   "outputs": [],
   "source": [
    "def plot_ae_images(arr):\n",
    "    fig, ax = plt.subplots(1, 2)\n",
    "    ax[0].imshow(arr, cmap='gray')\n",
    "    ax[1].imshow(auto_encoder.predict(arr.reshape(-1, 28, 28, 1))[0], cmap='gray')\n",
    "    plt.show()"
   ]
  },
  {
   "cell_type": "code",
   "execution_count": 41,
   "id": "dec95062-3db1-4d09-83a2-76c71b2eb2ac",
   "metadata": {},
   "outputs": [
    {
     "name": "stdout",
     "output_type": "stream",
     "text": [
      "1/1 [==============================] - 1s 888ms/step\n"
     ]
    },
    {
     "data": {
      "image/png": "[encoded data removed]",
      "text/plain": [
       "<Figure size 432x288 with 2 Axes>"
      ]
     },
     "metadata": {
      "needs_background": "light"
     },
     "output_type": "display_data"
    }
   ],
   "source": [
    "plot_ae_images(X_train[1])"
   ]
  },
  {
   "cell_type": "code",
   "execution_count": 42,
   "id": "71589f01-7d84-42d2-9d97-d75fd35aa4be",
   "metadata": {},
   "outputs": [
    {
     "name": "stdout",
     "output_type": "stream",
     "text": [
      "1/1 [==============================] - 0s 46ms/step\n"
     ]
    },
    {
     "data": {
      "image/png": "[encoded data removed]",
      "text/plain": [
       "<Figure size 432x288 with 2 Axes>"
      ]
     },
     "metadata": {
      "needs_background": "light"
     },
     "output_type": "display_data"
    }
   ],
   "source": [
    "plot_ae_images(X_test[1])"
   ]
  }
 ],
 "metadata": {
  "kernelspec": {
   "display_name": "py39",
   "language": "python",
   "name": "py39"
  },
  "language_info": {
   "codemirror_mode": {
    "name": "ipython",
    "version": 3
   },
   "file_extension": ".py",
   "mimetype": "text/x-python",
   "name": "python",
   "nbconvert_exporter": "python",
   "pygments_lexer": "ipython3",
   "version": "3.9.1"
  }
 },
 "nbformat": 4,
 "nbformat_minor": 5
}
