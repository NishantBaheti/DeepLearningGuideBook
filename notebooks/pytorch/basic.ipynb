{
 "cells": [
  {
   "cell_type": "markdown",
   "id": "ca592aa1",
   "metadata": {},
   "source": [
    "# Pytorch Basics"
   ]
  },
  {
   "cell_type": "markdown",
   "id": "d6b8f872-6535-4ae1-b272-d1cea47b5258",
   "metadata": {},
   "source": [
    "## References\n",
    "\n",
    "- https://pytorch.org/tutorials/beginner/basics/quickstart_tutorial.html\n",
    "- https://pytorch.org/tutorials/beginner/basics/data_tutorial.html"
   ]
  },
  {
   "cell_type": "markdown",
   "id": "d18cf0b9-d2e5-47ed-963f-822df4902b41",
   "metadata": {},
   "source": [
    "## Building"
   ]
  },
  {
   "cell_type": "code",
   "execution_count": 2,
   "id": "434502db-fd10-495e-92bf-0b40cf3d3e9e",
   "metadata": {},
   "outputs": [],
   "source": [
    "import numpy as np\n",
    "import torch\n",
    "from torch import nn\n",
    "from torch.utils.data import DataLoader, Dataset, TensorDataset"
   ]
  },
  {
   "cell_type": "code",
   "execution_count": 3,
   "id": "79778caf-88da-4538-98f7-ec66b119a222",
   "metadata": {},
   "outputs": [
    {
     "name": "stdout",
     "output_type": "stream",
     "text": [
      "Available Device : cpu\n"
     ]
    }
   ],
   "source": [
    "device = (\n",
    "    \"cuda\"\n",
    "    if torch.cuda.is_available()\n",
    "    else \"mps\"\n",
    "    if torch.backends.mps.is_available()\n",
    "    else \"cpu\"\n",
    ")\n",
    "print(f\"Available Device : {device}\")"
   ]
  },
  {
   "cell_type": "code",
   "execution_count": 7,
   "id": "ba14727c-a5da-43fb-a7b2-2971dd414c71",
   "metadata": {},
   "outputs": [
    {
     "data": {
      "text/plain": [
       "((40000, 10), (40000,), (10000, 10), (10000,))"
      ]
     },
     "execution_count": 7,
     "metadata": {},
     "output_type": "execute_result"
    }
   ],
   "source": [
    "from sklearn.datasets import make_classification\n",
    "from sklearn.model_selection import train_test_split\n",
    "\n",
    "n_features = 10\n",
    "n_samples = 50_000\n",
    "\n",
    "temp_X, temp_y = make_classification(\n",
    "    n_samples=n_samples,\n",
    "    n_classes=2,\n",
    "    n_features=n_features,\n",
    "    class_sep=1,\n",
    "    random_state=42,\n",
    ")\n",
    "X_train, X_test, y_train, y_test = train_test_split(\n",
    "    temp_X.astype(\"float32\"), temp_y.astype(\"float32\"), stratify=temp_y, test_size=0.2\n",
    ")\n",
    "\n",
    "X_train.shape, y_train.shape, X_test.shape, y_test.shape"
   ]
  },
  {
   "cell_type": "code",
   "execution_count": 8,
   "id": "3223fcd7-ce53-4034-889e-63fb057b2e69",
   "metadata": {},
   "outputs": [],
   "source": [
    "batch_size = 64\n",
    "train_dataloader = DataLoader(\n",
    "    dataset=TensorDataset(\n",
    "        torch.Tensor(X_train).to(device), torch.Tensor(y_train).to(device)\n",
    "    ),\n",
    "    batch_size=batch_size,\n",
    "    shuffle=True,\n",
    ")\n",
    "test_dataloader = DataLoader(\n",
    "    dataset=TensorDataset(\n",
    "        torch.Tensor(X_train).to(device), torch.Tensor(y_train).to(device)\n",
    "    ),\n",
    "    batch_size=batch_size,\n",
    "    shuffle=True,\n",
    ")"
   ]
  },
  {
   "cell_type": "code",
   "execution_count": 9,
   "id": "5d9d4422-6de6-4399-8eec-75bff91b645a",
   "metadata": {},
   "outputs": [],
   "source": [
    "class NeuralNetwork(nn.Module):\n",
    "    def __init__(self, n_inputs):\n",
    "        super(NeuralNetwork, self).__init__()\n",
    "        self.input_layer = nn.Linear(n_inputs, 32)\n",
    "        self.relu = nn.ReLU()\n",
    "        self.hidden_layer = nn.Linear(32, 32)\n",
    "        self.output_layer = nn.Linear(32, 1)\n",
    "        self.sigmoid = nn.Sigmoid()\n",
    "\n",
    "    def forward(self, x):\n",
    "        x1 = self.relu(self.input_layer(x))\n",
    "        x2 = self.relu(self.hidden_layer(x1))\n",
    "        x3 = self.relu(self.hidden_layer(x2))\n",
    "        output = self.sigmoid(self.output_layer(x3))\n",
    "        return output\n",
    "\n",
    "\n",
    "model = NeuralNetwork(n_features).to(device)\n",
    "loss_fn = nn.BCELoss()\n",
    "# optimizer = torch.optim.SGD(params=model.parameters(), lr=0.001)\n",
    "optimizer = torch.optim.Adam(params=model.parameters())\n",
    "\n",
    "\n",
    "def train(data_loader, model, loss_fn, optimizer):\n",
    "    model.train()\n",
    "    size = len(data_loader.dataset)\n",
    "    for batch, (X, y) in enumerate(data_loader):\n",
    "        # Compute prediction error\n",
    "        pred = model(X)[:, 0]\n",
    "        loss = loss_fn(pred, y)\n",
    "\n",
    "        # Backpropagation\n",
    "        optimizer.zero_grad()\n",
    "\n",
    "        loss.backward()\n",
    "        optimizer.step()\n",
    "\n",
    "        if batch % 100 == 0:\n",
    "            loss, current = loss.item(), (batch + 1) * len(X)\n",
    "            print(f\"loss: {loss:>7f}  [{current:>5d}/{size:>5d}]\")\n",
    "\n",
    "\n",
    "def test(data_loader, model, loss_fn, thresh=0.5):\n",
    "    size = len(data_loader.dataset)\n",
    "    num_batches = len(data_loader)\n",
    "\n",
    "    model.eval()\n",
    "    test_loss, correct = 0, 0\n",
    "    with torch.no_grad():\n",
    "        for X, y in data_loader:\n",
    "            pred = model(X)[:, 0]\n",
    "            test_loss += loss_fn(pred, y).item()\n",
    "            correct += (\n",
    "                ((pred > thresh).type(torch.int) == y).type(torch.float).sum().item()\n",
    "            )\n",
    "\n",
    "    test_loss /= num_batches\n",
    "    correct /= size\n",
    "    print(\n",
    "        f\"Test Error: \\n Accuracy: {(100*correct):>0.1f}%, Avg loss: {test_loss:>8f} \\n\"\n",
    "    )"
   ]
  },
  {
   "cell_type": "code",
   "execution_count": 10,
   "id": "8a62e781-448f-4d6b-ba20-13ce2faa1330",
   "metadata": {},
   "outputs": [
    {
     "name": "stdout",
     "output_type": "stream",
     "text": [
      "loss: 0.684228  [   64/40000]\n",
      "loss: 0.157080  [ 6464/40000]\n",
      "loss: 0.116945  [12864/40000]\n",
      "loss: 0.198458  [19264/40000]\n",
      "loss: 0.043856  [25664/40000]\n",
      "loss: 0.104556  [32064/40000]\n",
      "loss: 0.164484  [38464/40000]\n",
      "Test Error: \n",
      " Accuracy: 96.5%, Avg loss: 0.129747 \n",
      "\n",
      "loss: 0.091729  [   64/40000]\n",
      "loss: 0.161205  [ 6464/40000]\n",
      "loss: 0.035293  [12864/40000]\n",
      "loss: 0.115426  [19264/40000]\n",
      "loss: 0.121109  [25664/40000]\n",
      "loss: 0.059457  [32064/40000]\n",
      "loss: 0.176868  [38464/40000]\n",
      "Test Error: \n",
      " Accuracy: 96.8%, Avg loss: 0.122206 \n",
      "\n",
      "loss: 0.079619  [   64/40000]\n",
      "loss: 0.140084  [ 6464/40000]\n",
      "loss: 0.070570  [12864/40000]\n",
      "loss: 0.042990  [19264/40000]\n",
      "loss: 0.120375  [25664/40000]\n",
      "loss: 0.095633  [32064/40000]\n",
      "loss: 0.040016  [38464/40000]\n",
      "Test Error: \n",
      " Accuracy: 97.3%, Avg loss: 0.111193 \n",
      "\n",
      "loss: 0.037622  [   64/40000]\n",
      "loss: 0.046972  [ 6464/40000]\n",
      "loss: 0.093193  [12864/40000]\n",
      "loss: 0.028648  [19264/40000]\n",
      "loss: 0.027018  [25664/40000]\n",
      "loss: 0.023192  [32064/40000]\n",
      "loss: 0.073741  [38464/40000]\n",
      "Test Error: \n",
      " Accuracy: 97.4%, Avg loss: 0.107557 \n",
      "\n",
      "loss: 0.154942  [   64/40000]\n",
      "loss: 0.096006  [ 6464/40000]\n",
      "loss: 0.030325  [12864/40000]\n",
      "loss: 0.105037  [19264/40000]\n",
      "loss: 0.141436  [25664/40000]\n",
      "loss: 0.060033  [32064/40000]\n",
      "loss: 0.093308  [38464/40000]\n",
      "Test Error: \n",
      " Accuracy: 97.2%, Avg loss: 0.106574 \n",
      "\n"
     ]
    }
   ],
   "source": [
    "epochs = 5\n",
    "\n",
    "for _ in range(epochs):\n",
    "    train(train_dataloader, model, loss_fn, optimizer)\n",
    "    test(test_dataloader, model, loss_fn)"
   ]
  }
 ],
 "metadata": {
  "kernelspec": {
   "display_name": "Python 3 (ipykernel)",
   "language": "python",
   "name": "python3"
  },
  "language_info": {
   "codemirror_mode": {
    "name": "ipython",
    "version": 3
   },
   "file_extension": ".py",
   "mimetype": "text/x-python",
   "name": "python",
   "nbconvert_exporter": "python",
   "pygments_lexer": "ipython3",
   "version": "3.8.10"
  }
 },
 "nbformat": 4,
 "nbformat_minor": 5
}
