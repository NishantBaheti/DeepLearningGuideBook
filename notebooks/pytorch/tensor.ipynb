{
 "cells": [
  {
   "cell_type": "markdown",
   "id": "5c75616c-6fae-4d67-87fa-460168886753",
   "metadata": {},
   "source": [
    "# Tensor"
   ]
  },
  {
   "cell_type": "code",
   "execution_count": 1,
   "id": "95bca214-dc9e-485c-8af5-e05aa82d07c4",
   "metadata": {},
   "outputs": [],
   "source": [
    "import torch"
   ]
  },
  {
   "cell_type": "code",
   "execution_count": 2,
   "id": "25391432-6b8c-4537-ae85-045cfbe99bd9",
   "metadata": {},
   "outputs": [
    {
     "data": {
      "text/plain": [
       "<torch._C.Generator at 0x1777fc92d30>"
      ]
     },
     "execution_count": 2,
     "metadata": {},
     "output_type": "execute_result"
    }
   ],
   "source": [
    "torch.manual_seed(1)"
   ]
  },
  {
   "cell_type": "code",
   "execution_count": 3,
   "id": "21ebe0b8-27bd-4819-ac70-30a7e519ca9c",
   "metadata": {},
   "outputs": [
    {
     "name": "stdout",
     "output_type": "stream",
     "text": [
      "tensor([[0.7576, 0.2793, 0.4031],\n",
      "        [0.7347, 0.0293, 0.7999],\n",
      "        [0.3971, 0.7544, 0.5695],\n",
      "        [0.4388, 0.6387, 0.5247]])\n"
     ]
    }
   ],
   "source": [
    "x = torch.rand((4, 3), dtype=torch.float32)\n",
    "print(x)"
   ]
  },
  {
   "cell_type": "code",
   "execution_count": 4,
   "id": "c4f2cfb4-553a-44f7-af9a-fe5f804baa29",
   "metadata": {},
   "outputs": [
    {
     "name": "stdout",
     "output_type": "stream",
     "text": [
      "torch.Size([4, 3])\n"
     ]
    },
    {
     "data": {
      "text/plain": [
       "(4, 3)"
      ]
     },
     "execution_count": 4,
     "metadata": {},
     "output_type": "execute_result"
    }
   ],
   "source": [
    "print(x.shape)\n",
    "\n",
    "rows, columns = x.shape\n",
    "rows, columns"
   ]
  },
  {
   "cell_type": "code",
   "execution_count": 5,
   "id": "452aee33-20a0-4da2-8dda-3c00ce85ef6f",
   "metadata": {},
   "outputs": [
    {
     "data": {
      "text/plain": [
       "(tensor([[0.7576, 0.7347, 0.3971, 0.4388],\n",
       "         [0.2793, 0.0293, 0.7544, 0.6387],\n",
       "         [0.4031, 0.7999, 0.5695, 0.5247]]),\n",
       " tensor([[0.7576, 0.7347, 0.3971, 0.4388],\n",
       "         [0.2793, 0.0293, 0.7544, 0.6387],\n",
       "         [0.4031, 0.7999, 0.5695, 0.5247]]))"
      ]
     },
     "execution_count": 5,
     "metadata": {},
     "output_type": "execute_result"
    }
   ],
   "source": [
    "x.T, x.t()"
   ]
  },
  {
   "cell_type": "code",
   "execution_count": 6,
   "id": "6973aedc-5813-425b-9fb6-1ddcb7f42d79",
   "metadata": {},
   "outputs": [
    {
     "data": {
      "text/plain": [
       "tensor([[1.5153, 0.5586, 0.8061],\n",
       "        [1.4694, 0.0586, 1.5997],\n",
       "        [0.7943, 1.5087, 1.1390],\n",
       "        [0.8776, 1.2774, 1.0493]])"
      ]
     },
     "execution_count": 6,
     "metadata": {},
     "output_type": "execute_result"
    }
   ],
   "source": [
    "x + x"
   ]
  },
  {
   "cell_type": "code",
   "execution_count": 7,
   "id": "5fc9b9be-88c3-4ca4-8dd6-2186b387e522",
   "metadata": {},
   "outputs": [
    {
     "data": {
      "text/plain": [
       "tensor([[0.8145, 0.8872, 0.7411, 0.7223],\n",
       "        [0.8872, 1.1804, 0.7694, 0.7607],\n",
       "        [0.7411, 0.7694, 1.0511, 0.9549],\n",
       "        [0.7223, 0.7607, 0.9549, 0.8757]])"
      ]
     },
     "execution_count": 7,
     "metadata": {},
     "output_type": "execute_result"
    }
   ],
   "source": [
    "\n",
    "x @ x.T"
   ]
  },
  {
   "cell_type": "code",
   "execution_count": 8,
   "id": "4939e4b1-4de3-4a5a-9f61-c5f4fa2f9c16",
   "metadata": {},
   "outputs": [
    {
     "data": {
      "text/plain": [
       "tensor([[0.5740, 0.0780, 0.1625],\n",
       "        [0.5398, 0.0009, 0.6398],\n",
       "        [0.1577, 0.5691, 0.3243],\n",
       "        [0.1925, 0.4079, 0.2753]])"
      ]
     },
     "execution_count": 8,
     "metadata": {},
     "output_type": "execute_result"
    }
   ],
   "source": [
    "x * x"
   ]
  },
  {
   "cell_type": "code",
   "execution_count": 9,
   "id": "e6c035ef-980d-4045-9d91-e717be71cc0d",
   "metadata": {},
   "outputs": [
    {
     "data": {
      "text/plain": [
       "(tensor([[-0.4645,  0.2591,  0.8391],\n",
       "         [-0.5298,  0.6808, -0.5055],\n",
       "         [-0.5164, -0.5608, -0.1963],\n",
       "         [-0.4866, -0.3935, -0.0422]]),\n",
       " tensor([1.8458, 0.6668, 0.2649]),\n",
       " tensor([[-0.6284,  0.4516,  0.6334],\n",
       "         [-0.4581, -0.8729,  0.1679],\n",
       "         [-0.6287,  0.1847, -0.7554]]))"
      ]
     },
     "execution_count": 9,
     "metadata": {},
     "output_type": "execute_result"
    }
   ],
   "source": [
    "\n",
    "u, s, vT = torch.svd(x)\n",
    "\n",
    "u, s, vT"
   ]
  }
 ],
 "metadata": {
  "kernelspec": {
   "display_name": "Python 3 (ipykernel)",
   "language": "python",
   "name": "python3"
  },
  "language_info": {
   "codemirror_mode": {
    "name": "ipython",
    "version": 3
   },
   "file_extension": ".py",
   "mimetype": "text/x-python",
   "name": "python",
   "nbconvert_exporter": "python",
   "pygments_lexer": "ipython3",
   "version": "3.8.2"
  }
 },
 "nbformat": 4,
 "nbformat_minor": 5
}
