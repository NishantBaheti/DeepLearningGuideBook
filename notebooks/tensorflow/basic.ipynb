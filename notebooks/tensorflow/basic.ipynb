{
 "cells": [
  {
   "cell_type": "markdown",
   "id": "9acd76de-083f-4f8c-9d8f-722b499708a1",
   "metadata": {},
   "source": [
    "## References \n",
    "\n",
    "- https://www.tensorflow.org/tutorials/quickstart/advanced\n",
    "- https://www.tensorflow.org/api_docs/python/tf/GradientTape"
   ]
  },
  {
   "cell_type": "markdown",
   "id": "37932c58-9ab7-4fbc-a306-fc5fc22d2507",
   "metadata": {},
   "source": [
    "## Building"
   ]
  },
  {
   "cell_type": "code",
   "execution_count": 1,
   "id": "f7f38b7d-e6e7-4071-9a31-4240b2cb45fa",
   "metadata": {},
   "outputs": [],
   "source": [
    "import tensorflow as tf\n",
    "from tensorflow.keras import Model\n",
    "from tensorflow.keras.layers import Dense\n",
    "from tensorflow.keras.losses import BinaryCrossentropy\n",
    "from tensorflow.keras.optimizers.legacy import Adam\n",
    "from tensorflow.keras.metrics import Mean, BinaryAccuracy"
   ]
  },
  {
   "cell_type": "code",
   "execution_count": 2,
   "id": "fb68fd09-06fb-411f-b4af-b591d526e39f",
   "metadata": {},
   "outputs": [
    {
     "data": {
      "text/plain": [
       "((40000, 10), (40000, 1), (10000, 10), (10000, 1))"
      ]
     },
     "execution_count": 2,
     "metadata": {},
     "output_type": "execute_result"
    }
   ],
   "source": [
    "from sklearn.datasets import make_classification\n",
    "from sklearn.model_selection import train_test_split\n",
    "\n",
    "n_features = 10\n",
    "n_samples = 50_000\n",
    "\n",
    "temp_X, temp_y = make_classification(\n",
    "    n_samples=n_samples, n_classes=2, n_features=n_features, class_sep=1, random_state=42\n",
    ")\n",
    "X_train, X_test, y_train, y_test = train_test_split(\n",
    "    temp_X.astype(\"float32\"), temp_y.reshape(-1, 1).astype(\"float32\"), stratify=temp_y, test_size=0.2\n",
    ")\n",
    "\n",
    "\n",
    "X_train.shape, y_train.shape, X_test.shape, y_test.shape"
   ]
  },
  {
   "cell_type": "code",
   "execution_count": 3,
   "id": "06fa94a6-7316-4552-991f-fb54eeaab3a0",
   "metadata": {},
   "outputs": [],
   "source": [
    "BATCH_SIZE = 64\n",
    "SHUFFLE_BUFFER_SIZE = 1000\n",
    "train_dataset = tf.data.Dataset.from_tensor_slices((X_train, y_train))\\\n",
    "    .shuffle(SHUFFLE_BUFFER_SIZE).batch(BATCH_SIZE)\n",
    "test_dataset = tf.data.Dataset.from_tensor_slices((X_test, y_test)).batch(BATCH_SIZE)"
   ]
  },
  {
   "cell_type": "code",
   "execution_count": 4,
   "id": "5c458526-dc53-4fcb-8c0a-541d529ade10",
   "metadata": {},
   "outputs": [],
   "source": [
    "class NeuralNetwork(Model):\n",
    "    def __init__(self, n_inputs: int):\n",
    "        super().__init__()\n",
    "        self.input_layer = Dense(units=n_inputs, activation='relu')\n",
    "        self.relu = Dense(units=n_inputs, activation='relu')\n",
    "        self.output_layer = Dense(units=1, activation='sigmoid')\n",
    "\n",
    "    def call(self, x):\n",
    "        x1 = self.input_layer(x)\n",
    "        x2 = self.relu(x1)\n",
    "        x3 = self.relu(x2)\n",
    "        output = self.output_layer(x3)\n",
    "        return output\n",
    "    \n",
    "\n",
    "model = NeuralNetwork(n_inputs=n_features)\n",
    "loss_fn = BinaryCrossentropy(from_logits=False)\n",
    "# optimizer = SGD(learning_rate=0.01)\n",
    "optimizer = Adam()\n",
    "\n",
    "train_loss = Mean(name='train_loss')\n",
    "train_accuracy = BinaryAccuracy(name='train_accuracy')\n",
    "\n",
    "test_loss = Mean(name='test_loss')\n",
    "test_accuracy = BinaryAccuracy(name='test_accuracy')\n",
    "\n",
    "\n",
    "def train_step(model, dataset, optimizer, loss_fn):\n",
    "    for x, y in dataset:\n",
    "        with tf.GradientTape() as tape:\n",
    "            predictions = model(x)\n",
    "            loss = loss_fn(y, predictions)\n",
    "            gradient = tape.gradient(loss, model.trainable_variables)\n",
    "            optimizer.apply_gradients(zip(gradient, model.trainable_variables))\n",
    "\n",
    "            train_loss(loss)\n",
    "            train_accuracy(y, predictions)\n",
    "\n",
    "def test_step(model, dataset):\n",
    "    for x, y in dataset:\n",
    "        predictions = model(x, training=False)\n",
    "        loss = loss_fn(y, predictions)\n",
    "\n",
    "\n",
    "        test_loss(loss)\n",
    "        test_accuracy(y, predictions)"
   ]
  },
  {
   "cell_type": "code",
   "execution_count": 5,
   "id": "95754a35-6b6d-49aa-8791-d08390ecfa54",
   "metadata": {},
   "outputs": [
    {
     "name": "stdout",
     "output_type": "stream",
     "text": [
      "Epoch 1, Loss: 0.26982495188713074, Accuracy: 89.375, Test Loss: 0.15739412605762482, Test Accuracy: 95.59000396728516\n",
      "Epoch 2, Loss: 0.14098316431045532, Accuracy: 96.10499572753906, Test Loss: 0.13387630879878998, Test Accuracy: 96.43000030517578\n",
      "Epoch 3, Loss: 0.1275002360343933, Accuracy: 96.67749786376953, Test Loss: 0.12585057318210602, Test Accuracy: 96.83999633789062\n",
      "Epoch 4, Loss: 0.12096977233886719, Accuracy: 96.88249969482422, Test Loss: 0.12004249542951584, Test Accuracy: 96.95999908447266\n",
      "Epoch 5, Loss: 0.11742699146270752, Accuracy: 96.99749755859375, Test Loss: 0.11627758294343948, Test Accuracy: 97.0999984741211\n"
     ]
    }
   ],
   "source": [
    "epochs = 5\n",
    "\n",
    "for epoch in range(epochs):\n",
    "\n",
    "    train_loss.reset_states()\n",
    "    train_accuracy.reset_states()\n",
    "    test_loss.reset_states()\n",
    "    test_accuracy.reset_states()\n",
    "\n",
    "    train_step(model, train_dataset, optimizer, loss_fn)\n",
    "    test_step(model, test_dataset)\n",
    "\n",
    "    print(\n",
    "        f'Epoch {epoch + 1}, '\n",
    "        f'Loss: {train_loss.result()}, '\n",
    "        f'Accuracy: {train_accuracy.result() * 100}, '\n",
    "        f'Test Loss: {test_loss.result()}, '\n",
    "        f'Test Accuracy: {test_accuracy.result() * 100}'\n",
    "    )"
   ]
  },
  {
   "cell_type": "code",
   "execution_count": 6,
   "id": "03a2a334-5aa2-4343-813c-7868359643ba",
   "metadata": {},
   "outputs": [
    {
     "name": "stdout",
     "output_type": "stream",
     "text": [
      "tf.Tensor(27.0, shape=(), dtype=float32)\n"
     ]
    }
   ],
   "source": [
    "x = tf.constant(3.0)\n",
    "with tf.GradientTape() as g:\n",
    "    g.watch(x)\n",
    "    y = x * x * x\n",
    "    \n",
    "    dy_dx = g.gradient(y, x)\n",
    "    print(dy_dx)"
   ]
  }
 ],
 "metadata": {
  "kernelspec": {
   "display_name": "Python 3 (ipykernel)",
   "language": "python",
   "name": "python3"
  },
  "language_info": {
   "codemirror_mode": {
    "name": "ipython",
    "version": 3
   },
   "file_extension": ".py",
   "mimetype": "text/x-python",
   "name": "python",
   "nbconvert_exporter": "python",
   "pygments_lexer": "ipython3",
   "version": "3.8.2"
  }
 },
 "nbformat": 4,
 "nbformat_minor": 5
}
