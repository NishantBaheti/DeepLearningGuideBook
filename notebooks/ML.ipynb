{
 "cells": [
  {
   "cell_type": "markdown",
   "metadata": {},
   "source": [
    "  \n",
    "# Trip to Machine Learning\n",
    "<head> \n",
    "    <title>HTML Redirect</title> \n",
    "    <meta http-equiv=\"refresh\"\n",
    "        content=\"0; url = https://machinelearningexploration.readthedocs.io/\" /> \n",
    "</head> \n",
    "  \n",
    "<h1 style=\"text-align:center;color:green;\"> \n",
    "     Machine Learning Exploration \n",
    "</h1> \n",
    "\n",
    "<p style=\"text-align:center;\"> \n",
    "    If your browser supports Refresh, \n",
    "    you'll be redirected to the documentation. \n",
    "</p> \n",
    "<a href=\"https://machinelearningexploration.readthedocs.io/\">Or Go to Documentation</a>\n"
   ]
  },
  {
   "cell_type": "code",
   "execution_count": null,
   "metadata": {},
   "outputs": [],
   "source": []
  }
 ],
 "metadata": {
  "kernelspec": {
   "display_name": "Python 3.8.3 64-bit ('base': conda)",
   "language": "python",
   "name": "python383jvsc74a57bd0dba788e4a50ad11c3aca04f6a487ccbbf2decea49c956f88ab099965f16291a4"
  },
  "language_info": {
   "codemirror_mode": {
    "name": "ipython",
    "version": 3
   },
   "file_extension": ".py",
   "mimetype": "text/x-python",
   "name": "python",
   "nbconvert_exporter": "python",
   "pygments_lexer": "ipython3",
   "version": "3.8.3"
  }
 },
 "nbformat": 4,
 "nbformat_minor": 4
}
