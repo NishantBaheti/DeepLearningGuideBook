{
 "cells": [
  {
   "cell_type": "markdown",
   "metadata": {},
   "source": [
    "# Architecture\n",
    "\n",
    "<img src='diags/nn_1.dio.drawio.svg'/>"
   ]
  },
  {
   "cell_type": "markdown",
   "metadata": {
    "tags": []
   },
   "source": [
    "# Symbols & Naming Conventions\n",
    "\n",
    "\n",
    "\\begin{align}\n",
    "    n &= \\text{number of nodes}\\\\\n",
    "    l &= \\text{layer number}\\\\\n",
    "    w,W &= \\text{weights matrix}\\\\\n",
    "    b &= \\text{bias matrix}\\\\\n",
    "    z,Z &= \\text{hypthesis result (result before applying activation function)}\\\\\n",
    "    g(z) &= \\text{activation function}\\\\\n",
    "    a,A &= \\text{activation matrix (result after applying activation function)}\\\\\n",
    "    x,X &= \\text{input to network}\\\\\n",
    "    \\hat{y} &= \\text{output of network}\\\\\n",
    "\\end{align}"
   ]
  },
  {
   "cell_type": "markdown",
   "metadata": {
    "jp-MarkdownHeadingCollapsed": true,
    "tags": []
   },
   "source": [
    "values for forward propogation\n",
    "\\begin{align}\n",
    "    \\huge{n^{[l]}} &= \\text{number of nodes in the layer}\\\\\n",
    "    \\huge{z^{[l]}} &= \\text{hypothesis result of the layer}\\\\\n",
    "    \\huge{w^{[l]}} &= \\text{weights results of the layer}\\\\\n",
    "    \\huge{b^{[l]}} &= \\text{bias results of the layer}\\\\\n",
    "    \\huge{a^{[l]}} &= \\text{activation results of the layer}\\\\\n",
    "\\end{align}"
   ]
  },
  {
   "cell_type": "markdown",
   "metadata": {
    "jp-MarkdownHeadingCollapsed": true,
    "tags": []
   },
   "source": [
    "derivatives for backward propogation\n",
    "\\begin{align}\n",
    "    \\huge{dw^{[l]}} &= \\frac{\\partial L}{\\partial w} \\rightarrow \\text{loss derivative based on weights}\\\\\n",
    "    \\huge{db^{[l]}} &= \\frac{\\partial L}{\\partial b} \\rightarrow \\text{ loss derivative based on biases}\\\\\n",
    "    \\huge{dz^{[l]}} &= \\frac{\\partial L}{\\partial z} \\rightarrow \\text{ loss derivative based on hypothesis result}\\\\\n",
    "    \\huge{da^{[l]}} &= \\frac{\\partial L}{\\partial a} \\rightarrow \\text{ loss derivative based on activation result}\\\\\n",
    "\\end{align}"
   ]
  },
  {
   "cell_type": "markdown",
   "metadata": {},
   "source": [
    "# Flow\n",
    "\n",
    "<img src='diags/nn_flow.drawio.svg'/>"
   ]
  },
  {
   "cell_type": "markdown",
   "metadata": {
    "tags": []
   },
   "source": [
    "# Shapes \n",
    "\n",
    "\n",
    "\\begin{array}{ | c | c | c | }\n",
    "    \\hline\n",
    "    W^{[l]} & ( n^{[l]} , n^{[l-1]} ) & dW^{[l]} \\\\\n",
    "    \\hline\n",
    "    b^{[l]} & ( 1 , n^{[l]}  ) & db^{[l]} \\\\\n",
    "    \\hline\n",
    "    Z^{[l]} & ( n^{[l]} , n^{[l-1]} ) & dZ^{[l]} \\\\\n",
    "    \\hline\n",
    "    A^{[l]} & ( n^{[l]} , n^{[l-1]} ) & dA^{[l]} \\\\\n",
    "    \\hline\n",
    "\\end{array} \n",
    "where\\\n",
    "l = layer number >= 1\\\n",
    "$A^{[0]}$ = X"
   ]
  },
  {
   "cell_type": "markdown",
   "metadata": {
    "tags": []
   },
   "source": [
    "# Dense Layer"
   ]
  },
  {
   "cell_type": "markdown",
   "metadata": {},
   "source": [
    "How do we actually initialize a layer for a New Neural Network?\n",
    "\n",
    "* initialization of weights with small random values\n",
    "\n",
    "    * why? because according to Andrew Ng's explanation if all the weights/params are\n",
    "    initialized by zero or same value then all the hidden units will be symmetric with identical nodes.\n",
    "    \n",
    "    * With identical nodes there will be no learning/ decision making. because all the decisions\n",
    "    shares same value.\n",
    "    \n",
    "    * If all the nodes will have zero values(weights are zero , multiplication with weights will also be zero) and propogation result wont be a conclusive one(dead network).\n",
    "\n",
    "* initialization of bias can be zero. \n",
    "\n",
    "    * as randomness is already introduced by weights.\n",
    "    But for smaller Neural Network it is advised to not to initialize with zero."
   ]
  },
  {
   "cell_type": "markdown",
   "metadata": {},
   "source": [
    "\\begin{align}\n",
    "X &= \\begin{bmatrix}\n",
    "    x_1^{(1)} && x_1^{(2)} && \\dots && x_1^{(m)}\\\\\n",
    "    x_2^{(1)} && x_2^{(2)} && \\dots && x_2^{(m)}\\\\\n",
    "    && && \\vdots \\\\\n",
    "    x_n^{(1)} && x_n^{(2)} && \\dots && x_n^{(m)}\\\\\n",
    "\\end{bmatrix}_{n \\times m}\\\\\n",
    "W &= \\begin{bmatrix}\n",
    "    w_1^{(1)} && w_1^{(2)} && \\dots && w_1^{(m)}\\\\\n",
    "    w_2^{(1)} && w_2^{(2)} && \\dots && w_2^{(m)}\\\\\n",
    "    && && \\vdots \\\\\n",
    "    w_n^{(1)} && w_n^{(2)} && \\dots && w_n^{(m)}\\\\\n",
    "\\end{bmatrix}_{n \\times m}\\\\\n",
    "b &= \\begin{bmatrix}\n",
    "    b_1 && b_2 && \\dots & b_n\n",
    "    \\end{bmatrix}_{1 \\times n}\n",
    "\\end{align}"
   ]
  },
  {
   "cell_type": "markdown",
   "metadata": {},
   "source": [
    "\\begin{align*}\n",
    "Z &= X W^T + b\\\\\n",
    "  \\\\\n",
    "  &=\\begin{bmatrix}\n",
    "        x_1^{(1)} && x_1^{(2)} && \\dots && x_1^{(m)}\\\\\n",
    "        x_2^{(1)} && x_2^{(2)} && \\dots && x_2^{(m)}\\\\\n",
    "        && && \\vdots \\\\\n",
    "        x_n^{(1)} && x_n^{(2)} && \\dots && x_n^{(m)}\\\\\n",
    "    \\end{bmatrix}_{n \\times m}\n",
    "    \\begin{bmatrix}\n",
    "        w_1^{(1)} && w_2^{(1)} && \\dots && w_n^{(1)}\\\\\n",
    "        w_1^{(2)} && w_2^{(2)} && \\dots && w_n^{(2)}\\\\\n",
    "        && && \\vdots \\\\\n",
    "        w_1^{(m)} && w_2^{(m)} && \\dots && w_n^{(m)}\\\\\n",
    "    \\end{bmatrix}_{m \\times n}+\n",
    "    \\begin{bmatrix}\n",
    "        b_1 && b_2 && \\dots & b_n\n",
    "    \\end{bmatrix}_{1 \\times n}\\\\\n",
    "  \\\\\n",
    "  &= \\begin{bmatrix}\n",
    "        x_1^{(1)}w_1^{(1)}+ x_1^{(2)}w_1^{(2)} +\\dots+x_1^{(m)}w_1^{(m)} && \\dots && x_1^{(1)}w_n^{(1)}+ x_1^{(2)}w_n^{(2)} +\\dots+x_1^{(m)}w_n^{(m)} \\\\\n",
    "        x_2^{(1)}w_1^{(1)}+ x_2^{(2)}w_1^{(2)} +\\dots+x_2^{(m)}w_1^{(m)} && \\dots && x_2^{(1)}w_n^{(1)}+ x_2^{(2)}w_n^{(2)} +\\dots+x_2^{(m)}w_n^{(m)} \\\\\n",
    "       && \\vdots \\\\\n",
    "       x_n^{(1)}w_1^{(1)}+ x_n^{(2)}w_1^{(2)} +\\dots+x_n^{(m)}w_1^{(m)} && \\dots && x_n^{(1)}w_n^{(1)}+ x_n^{(2)}w_n^{(2)} +\\dots+x_n^{(m)}w_n^{(m)}\n",
    "     \\end{bmatrix}_{n \\times n}+\n",
    "     \\begin{bmatrix}\n",
    "        b_1 && b_2 && \\dots & b_n\\\\\n",
    "        b_1 && b_2 && \\dots & b_n\\\\\n",
    "        && && \\vdots\\\\\n",
    "        b_1 && b_2 && \\dots & b_n\\\\\n",
    "     \\end{bmatrix}_{n \\times n \\text{ broadcasting}}\\\\\n",
    "  \\\\\n",
    "  &= \\begin{bmatrix}\n",
    "        x_1^{(1)}w_1^{(1)}+ x_1^{(2)}w_1^{(2)} +\\dots+x_1^{(m)}w_1^{(m)} + b_1 && \\dots && x_1^{(1)}w_n^{(1)}+ x_1^{(2)}w_n^{(2)} +\\dots+x_1^{(m)}w_n^{(m)}+ b_n \\\\\n",
    "        x_2^{(1)}w_1^{(1)}+ x_2^{(2)}w_1^{(2)} +\\dots+x_2^{(m)}w_1^{(m)} + b_1 && \\dots && x_2^{(1)}w_n^{(1)}+ x_2^{(2)}w_n^{(2)} +\\dots+x_2^{(m)}w_n^{(m)}+ b_n \\\\\n",
    "       && \\vdots \\\\\n",
    "       x_n^{(1)}w_1^{(1)}+ x_n^{(2)}w_1^{(2)} +\\dots+x_n^{(m)}w_1^{(m)} + b_1 && \\dots && x_n^{(1)}w_n^{(1)}+ x_n^{(2)}w_n^{(2)} +\\dots+x_n^{(m)}w_n^{(m)} + b_n\n",
    "     \\end{bmatrix}_{n \\times n}\n",
    "\\end{align*}"
   ]
  },
  {
   "cell_type": "markdown",
   "metadata": {},
   "source": [
    "## Forward\n",
    "\n",
    "\\begin{align*}\n",
    "    Z^{[1]} &= A^{[0]} W^{[1]T} + b^{[1]}\\\\\n",
    "    A^{[1]} &= g^{[1]}(Z^{[1]})\\\\\n",
    "    \\\\\n",
    "    Z^{[2]} &= A^{[1]} W^{[2]T} + b^{[2]}\\\\\n",
    "    A^{[2]} &= g^{[2]}(Z^{[2]})\\\\\n",
    "\\end{align*}\n",
    "\n",
    "`Generalized`\n",
    "\\begin{align*}\n",
    "    Z^{[l]} &= A^{[l-1]} W^{[l]T} + b^{[l]}\\\\\n",
    "    A^{[l]} &= g^{[l]}(Z^{[l]})\n",
    "\\end{align*}"
   ]
  },
  {
   "cell_type": "code",
   "execution_count": 24,
   "metadata": {},
   "outputs": [],
   "source": [
    "from abc import ABC,abstractmethod\n",
    "import numpy as np\n",
    "import matplotlib.pyplot as plt"
   ]
  },
  {
   "cell_type": "markdown",
   "metadata": {},
   "source": [
    "lets take two layers\n",
    "\n",
    "* lets take layer 1 as input layer. This means input is x or $a^{[0]}$\n",
    "    * lets take 3 columns = number of nodes = $n^{[0]} = 3$\n",
    "    * and take 10 samples = m = 10\n",
    "    * shape of $a^{[0]} = (n^{[0]},m)$ \n",
    "                        (3, 10)\n",
    "    * shape of $w^{[1]} = (n^{[0]},m) = dw^{[1]}$ \n",
    "                    (3, 10)\n",
    "    * shape of $b^{[1]} = (1, n^{[0]}) = db^{[1]}$ \n",
    "                    (1, 3)\n",
    "    * shape of $z^{[1]} = (n^{[0]},m) (m, n^{[0]}) + (1, n^{[0]}) = (n^{[0]}, n^{[0]}) = dz^{[1]}$\n",
    "                     (3, 10) (10, 3)+ (1, 3) = (3, 3)\n",
    "    * shape of $z^{[1]}$ = shape of $a^{[1]} = (n^{[0]}, n^{[0]})$\n",
    "                                    (3, 3)\n",
    "\n",
    "* lets take layer 2 the next layer to that. The first one in hidden layer. Input to this layer is $a^{[1]}$\n",
    "    * lets take number of nodes in the layer = 5 = $n^{[1]} = 5$\n",
    "    * shape of $w^{[2]} = (n^{[1]},n^{[0]}) = dw^{[2]}$ \n",
    "                        (5 ,3)\n",
    "    * shape of $b^{[2]} = (1, n^{[1]}) = db^{[2]}$ \n",
    "                    (1, 5)\n",
    "    * shape of $z^{[2]} = (n^{[0]}, n^{[0]}) ( n^{[0]}, n^{[1]}) + (1, n^{[1]}) = (n^{[0]},n^{[1]}) = dz^{[2]}$\n",
    "                    (3, 3) (3, 5) + (1, 5) = (3, 5)"
   ]
  },
  {
   "cell_type": "code",
   "execution_count": 2,
   "metadata": {},
   "outputs": [],
   "source": [
    "n0 = 3 \n",
    "n1 = 5\n",
    "m = 10 "
   ]
  },
  {
   "cell_type": "code",
   "execution_count": 3,
   "metadata": {},
   "outputs": [
    {
     "name": "stdout",
     "output_type": "stream",
     "text": [
      "(3, 10) (3, 10) + (1, 3)\n"
     ]
    }
   ],
   "source": [
    "a0 = np.random.random((n0, m))\n",
    "w1 = np.random.random((n0, m))\n",
    "b1 = np.random.random((1, n0))\n",
    "print(w1.shape, a0.shape,'+', b1.shape)"
   ]
  },
  {
   "cell_type": "code",
   "execution_count": 4,
   "metadata": {},
   "outputs": [
    {
     "data": {
      "text/plain": [
       "(3, 3)"
      ]
     },
     "execution_count": 4,
     "metadata": {},
     "output_type": "execute_result"
    }
   ],
   "source": [
    "z1 = (a0 @ w1.T) + b1\n",
    "z1.shape"
   ]
  },
  {
   "cell_type": "code",
   "execution_count": 5,
   "metadata": {},
   "outputs": [
    {
     "data": {
      "text/plain": [
       "(3, 3)"
      ]
     },
     "execution_count": 5,
     "metadata": {},
     "output_type": "execute_result"
    }
   ],
   "source": [
    "a1 = 1/(1 + np.exp(-z1))\n",
    "\n",
    "a1.shape"
   ]
  },
  {
   "cell_type": "code",
   "execution_count": 6,
   "metadata": {},
   "outputs": [
    {
     "name": "stdout",
     "output_type": "stream",
     "text": [
      "(5, 3) (3, 3) + (1, 5)\n"
     ]
    }
   ],
   "source": [
    "w2 = np.random.random((n1, n0))\n",
    "b2 = np.random.random((1, n1))\n",
    "print(w2.shape, a1.shape,'+', b2.shape)"
   ]
  },
  {
   "cell_type": "code",
   "execution_count": 7,
   "metadata": {},
   "outputs": [
    {
     "data": {
      "text/plain": [
       "(3, 5)"
      ]
     },
     "execution_count": 7,
     "metadata": {},
     "output_type": "execute_result"
    }
   ],
   "source": [
    "z2 = (a1 @ w2.T) + b2\n",
    "z2.shape"
   ]
  },
  {
   "cell_type": "code",
   "execution_count": 8,
   "metadata": {},
   "outputs": [
    {
     "data": {
      "text/plain": [
       "(3, 5)"
      ]
     },
     "execution_count": 8,
     "metadata": {},
     "output_type": "execute_result"
    }
   ],
   "source": [
    "a2 = 1/(1 + np.exp(-z2))\n",
    "a2.shape"
   ]
  },
  {
   "cell_type": "markdown",
   "metadata": {},
   "source": [
    "## Backward\n",
    "\n",
    "\\begin{align*}\n",
    "    & \\text{param for this layer  (this function starts working from here)}\\\\\n",
    "    dW &= dZ' .A^T\\\\\n",
    "    dB &= \\sum(dZ')\\\\\n",
    "    \\\\\n",
    "    & \\text{input for next layer (in backward propogation)}\\\\\n",
    "    dZ &= dZ' .W^T \n",
    "\\end{align*}"
   ]
  },
  {
   "cell_type": "code",
   "execution_count": 9,
   "metadata": {},
   "outputs": [
    {
     "data": {
      "text/plain": [
       "(3, 5)"
      ]
     },
     "execution_count": 9,
     "metadata": {},
     "output_type": "execute_result"
    }
   ],
   "source": [
    "dz2 = np.random.random((n0,n1))\n",
    "dz2.shape"
   ]
  },
  {
   "cell_type": "code",
   "execution_count": 10,
   "metadata": {},
   "outputs": [
    {
     "data": {
      "text/plain": [
       "(3, 3)"
      ]
     },
     "execution_count": 10,
     "metadata": {},
     "output_type": "execute_result"
    }
   ],
   "source": [
    "dw2 = dz2 @ a2.T\n",
    "dw2.shape"
   ]
  },
  {
   "cell_type": "code",
   "execution_count": 11,
   "metadata": {},
   "outputs": [
    {
     "data": {
      "text/plain": [
       "(1, 5)"
      ]
     },
     "execution_count": 11,
     "metadata": {},
     "output_type": "execute_result"
    }
   ],
   "source": [
    "db2 = dz2.sum(axis=0,keepdims=True)\n",
    "db2.shape"
   ]
  },
  {
   "cell_type": "code",
   "execution_count": 12,
   "metadata": {},
   "outputs": [
    {
     "data": {
      "text/plain": [
       "(3, 3)"
      ]
     },
     "execution_count": 12,
     "metadata": {},
     "output_type": "execute_result"
    }
   ],
   "source": [
    "dz1 = dz2 @ w2\n",
    "dz1.shape"
   ]
  },
  {
   "cell_type": "code",
   "execution_count": 13,
   "metadata": {},
   "outputs": [
    {
     "data": {
      "text/plain": [
       "(3, 3)"
      ]
     },
     "execution_count": 13,
     "metadata": {},
     "output_type": "execute_result"
    }
   ],
   "source": [
    "dw1 = dz1 @ a1.T\n",
    "dw1.shape"
   ]
  },
  {
   "cell_type": "code",
   "execution_count": 14,
   "metadata": {},
   "outputs": [
    {
     "data": {
      "text/plain": [
       "(1, 3)"
      ]
     },
     "execution_count": 14,
     "metadata": {},
     "output_type": "execute_result"
    }
   ],
   "source": [
    "db1 = dz1.sum(axis=0,keepdims=True)\n",
    "db1.shape"
   ]
  },
  {
   "cell_type": "code",
   "execution_count": 15,
   "metadata": {},
   "outputs": [
    {
     "data": {
      "text/plain": [
       "array([[1.79010256, 1.24363704, 1.14044947, 1.59485811, 2.5252642 ,\n",
       "        2.75591499, 2.25962179, 1.60330399, 2.3738583 , 1.49153635],\n",
       "       [2.34937498, 1.53907213, 1.42160994, 2.11720681, 3.18434689,\n",
       "        3.50507928, 2.81904008, 2.00442235, 2.95554755, 1.80424898],\n",
       "       [2.4838368 , 1.58558254, 1.50541413, 2.2915523 , 3.29941729,\n",
       "        3.62176832, 2.93829308, 2.09030879, 3.06512188, 1.80576924]])"
      ]
     },
     "execution_count": 15,
     "metadata": {},
     "output_type": "execute_result"
    }
   ],
   "source": [
    "dz1 @ w1"
   ]
  },
  {
   "cell_type": "markdown",
   "metadata": {},
   "source": [
    "## Model"
   ]
  },
  {
   "cell_type": "code",
   "execution_count": 31,
   "metadata": {},
   "outputs": [],
   "source": [
    "class LayerDense:\n",
    "    \"\"\"Layer Module\n",
    "    \n",
    "    It is recommended that input data X is scaled(data scaling operations)\n",
    "    so that data is normalized but meaning of the data remains same.\n",
    "\n",
    "    Args:\n",
    "        n_inputs (int) : number of inputs \n",
    "        n_neurons (int) : number of neurons\n",
    "    \"\"\"\n",
    "    def __init__(self,n_inputs,n_neurons):\n",
    "        \"\"\"\n",
    "        \"\"\"\n",
    "        self.w = 0.10 * np.random.randn(n_inputs,n_neurons) # multiply by 0.1 to make it small\n",
    "        self.b = np.zeros((1,n_neurons))\n",
    "\n",
    "    def forward(self, a):\n",
    "        \"\"\"forward propogation calculation\n",
    "        \"\"\"\n",
    "        self.a = a\n",
    "        self.z = np.dot(self.a,self.w)+self.b \n",
    "\n",
    "    def backward(self, dz):\n",
    "        \"\"\"backward pass\n",
    "        \"\"\"\n",
    "        # gradient on parameters \n",
    "        self.dw = dz @ self.a.T\n",
    "        self.db = dz.sum(axis=0,keepdims=True)\n",
    "        \n",
    "        # gradient on values / input to next layer in backpropogation\n",
    "        self.dz = dz @ self.w"
   ]
  },
  {
   "cell_type": "markdown",
   "metadata": {
    "tags": []
   },
   "source": [
    "# Activation Functions \n",
    "\n",
    "Notes:\n",
    "\n",
    "1. Introducing non linearity to the network. Why?\n",
    "2. According to me we need one parameter to compare all the nodes results after learning and passing the value to upcoming nodes.\n",
    "3. To make sense of the data and a mapping for approximation.\n",
    "4. Understand what is the impact of weights and biases changing value to the network/nodes.\n",
    "    If there is only linear fx then it can only fit linear data but if we have not linear data like a sine wave then it will fail to do so. \n",
    "5. If there is no activate function then the whole network will be similar to a one linear node.\n",
    "\n",
    "$w^T(w^T (w^T  x + b) + b) + b ... = output$ \n",
    "\n"
   ]
  },
  {
   "cell_type": "markdown",
   "metadata": {},
   "source": [
    "## Sigmoid\n",
    "\n",
    "$f(x) = \\frac{1}{(1 + e^{-x})}$\n",
    "\n",
    "* granular\n",
    "* between 0 and 1\n",
    "* Comparatively complex calcultaion\n"
   ]
  },
  {
   "cell_type": "code",
   "execution_count": 30,
   "metadata": {},
   "outputs": [],
   "source": [
    "class ActivationSigmoid:\n",
    "    \"\"\"Sigmoid Activation Fx\n",
    "    \"\"\"\n",
    "\n",
    "    def __init__(self):\n",
    "        self.output = None\n",
    "\n",
    "    def forward(self, inputs):\n",
    "        \"\"\"Apply Sigmoid to input\n",
    "        \"\"\"\n",
    "        self.output = 1 / (1 + np.exp(-inputs))"
   ]
  },
  {
   "cell_type": "code",
   "execution_count": 52,
   "metadata": {},
   "outputs": [
    {
     "data": {
      "image/png": "[encoded data removed]",
      "text/plain": [
       "<Figure size 432x288 with 1 Axes>"
      ]
     },
     "metadata": {
      "needs_background": "light"
     },
     "output_type": "display_data"
    }
   ],
   "source": [
    "data = np.linspace(-10, 10, 100)\n",
    "act = ActivationSigmoid()\n",
    "act.forward(data)\n",
    "\n",
    "\n",
    "plt.plot(data,act.output,'k.-')\n",
    "plt.grid()"
   ]
  },
  {
   "cell_type": "markdown",
   "metadata": {},
   "source": [
    "## Stepwise\n",
    "\n",
    "$f(x) = 0$  | if $x \\leq 0$\n",
    "\n",
    "$f(x) = 1$  | if $x \\gt 0$\n",
    "\n",
    "* non granular \n",
    "* only 0 and 1"
   ]
  },
  {
   "cell_type": "code",
   "execution_count": 43,
   "metadata": {},
   "outputs": [],
   "source": [
    "class ActivationStepwise:\n",
    "    \"\"\"Stepwise Activation Fx\n",
    "    \"\"\"\n",
    "\n",
    "    def __init__(self):\n",
    "        self.output = None\n",
    "\n",
    "    def forward(self, inputs):\n",
    "        \"\"\"Apply Stepwise to inputs\n",
    "\n",
    "        Args:\n",
    "            inputs (numpy.ndarray) : input matrix\n",
    "        \"\"\"\n",
    "        self.inputs = inputs # save inputs \n",
    "        self.output = (inputs > 0).astype('int') # calculate from inputs"
   ]
  },
  {
   "cell_type": "code",
   "execution_count": 51,
   "metadata": {},
   "outputs": [
    {
     "data": {
      "image/png": "[encoded data removed]",
      "text/plain": [
       "<Figure size 432x288 with 1 Axes>"
      ]
     },
     "metadata": {
      "needs_background": "light"
     },
     "output_type": "display_data"
    }
   ],
   "source": [
    "data = np.linspace(-10, 10, 100)\n",
    "act = ActivationStepwise()\n",
    "act.forward(data)\n",
    "\n",
    "\n",
    "plt.plot(data,act.output,'k.-')\n",
    "plt.grid()"
   ]
  },
  {
   "cell_type": "markdown",
   "metadata": {},
   "source": [
    "## Relu\n",
    "\n",
    "\n",
    "$f(x) = 0$  | if $x \\leq 0$\n",
    "\n",
    "$f(x) = x$  | if $x \\gt 0$\n",
    "\n",
    "* granular\n",
    "* between 0 to x\n",
    "* easy calculation \n",
    "* almost linear but rectified so less than zeros are not allowed.so introducing slight non linearity makes it eligible for an activation function but also inherently easy and fast calculation than sigmoid."
   ]
  },
  {
   "cell_type": "code",
   "execution_count": 33,
   "metadata": {},
   "outputs": [],
   "source": [
    "class ActivationReLU:\n",
    "    \"\"\"ReLU Activation Fx\n",
    "\n",
    "    \"\"\"\n",
    "\n",
    "    def __init__(self):\n",
    "        pass\n",
    "    \n",
    "    def forward(self, inputs):\n",
    "        \"\"\"Apply ReLU to input\n",
    "        \n",
    "        Args:\n",
    "            inputs (numpy.ndarray) : input matrix\n",
    "        \"\"\"\n",
    "        self.inputs = inputs # save inputs \n",
    "        self.output = np.maximum(0, inputs) # calculate from inputs\n",
    "\n",
    "    def backward(self, dvalues):\n",
    "        \"\"\"Apply backward propogation\n",
    "\n",
    "        Args:\n",
    "            dvalues (numpy.ndarray) : inputs from previous later in backward prop\n",
    "        \"\"\"\n",
    "        self.dinputs = dvalues.copy()\n",
    "        self.dinputs[self.inputs <= 0] = 0"
   ]
  },
  {
   "cell_type": "code",
   "execution_count": 50,
   "metadata": {},
   "outputs": [
    {
     "data": {
      "image/png": "[encoded data removed]",
      "text/plain": [
       "<Figure size 432x288 with 1 Axes>"
      ]
     },
     "metadata": {
      "needs_background": "light"
     },
     "output_type": "display_data"
    }
   ],
   "source": [
    "data = np.linspace(-10, 10, 100)\n",
    "act = ActivationReLU()\n",
    "act.forward(data)\n",
    "\n",
    "\n",
    "plt.plot(data,act.output,'k.-')\n",
    "plt.grid()"
   ]
  },
  {
   "cell_type": "markdown",
   "metadata": {},
   "source": [
    "## Softmax"
   ]
  },
  {
   "cell_type": "code",
   "execution_count": 55,
   "metadata": {},
   "outputs": [],
   "source": [
    "class ActivationSoftmax:\n",
    "\n",
    "    def forward(self, inputs):\n",
    "        \"\"\"Forward propogation calculation\n",
    "\n",
    "        Args:\n",
    "            inputs (numpy.ndarray) : input matrix\n",
    "        \"\"\"\n",
    "        exp_values = np.exp(inputs - np.max(inputs, axis=0, keepdims=True))\n",
    "        probabilites = exp_values / np.sum(exp_values, axis=0, keepdims=True)\n",
    "        self.output = probabilites\n",
    "\n",
    "    def backward(self, dvalues):\n",
    "        \"\"\"backward pass\n",
    "\n",
    "        Args:\n",
    "            dvalues (numpy.ndarray) : gradient values\n",
    "        \"\"\"\n",
    "        pass\n",
    "        "
   ]
  },
  {
   "cell_type": "code",
   "execution_count": 56,
   "metadata": {},
   "outputs": [
    {
     "data": {
      "image/png": "[encoded data removed]",
      "text/plain": [
       "<Figure size 432x288 with 1 Axes>"
      ]
     },
     "metadata": {
      "needs_background": "light"
     },
     "output_type": "display_data"
    }
   ],
   "source": [
    "data = np.linspace(-10,10).reshape(-1,1)\n",
    "act = ActivationSoftmax()\n",
    "act.forward(np.linspace(-10,10))\n",
    "\n",
    "\n",
    "plt.plot(data,act.output,'k.-')\n",
    "plt.grid()"
   ]
  },
  {
   "cell_type": "markdown",
   "metadata": {},
   "source": [
    "# Loss "
   ]
  },
  {
   "cell_type": "code",
   "execution_count": 17,
   "metadata": {},
   "outputs": [],
   "source": [
    "class Loss(ABC):\n",
    "    \"\"\"Loss Meta class \n",
    "    \"\"\"\n",
    "    @abstractmethod\n",
    "    def __init__(self):\n",
    "        pass\n",
    "\n",
    "    @abstractmethod\n",
    "    def forward(self):\n",
    "        \"\"\"mandatory method for child class\n",
    "        \"\"\"\n",
    "        pass\n",
    "\n",
    "    def calculate(self, output, y):\n",
    "        \"\"\"Calculate mean loss\n",
    "        \n",
    "        Args:\n",
    "            output : output from the layer\n",
    "            y : truth value/ target/ expected outcome\n",
    "        \"\"\"\n",
    "        # it can be individual outcome of different kind of loss functions\n",
    "        sample_losses = self.forward(output, y) \n",
    "        \n",
    "        # calculating mean\n",
    "        data_loss = np.mean(sample_losses)\n",
    "        return data_loss"
   ]
  },
  {
   "cell_type": "markdown",
   "metadata": {},
   "source": [
    "## Categorical Cross Entropy\n",
    "\n",
    "\\begin{align}\n",
    "    L(a^{[l]},y) &= y log(a^{[l]}) + (1 - y) log(1 - a^{[l]})\\\\\n",
    "    \\\\\n",
    "    \\text{derivative of loss over a --> da}\\\\\n",
    "    \\frac{\\partial L}{\\partial a} &= \\big[ \\frac{y}{a} + \\frac{1 -y}{1 - a}(-1) \\big]\\\\\n",
    "    \\frac{\\partial L}{\\partial a} &= \\big[ \\frac{y}{a} - \\frac{1 -y}{1 - a} \\big]\\\\\n",
    "    \\\\\n",
    "    \\text{derivative of loss over z --> dz}\\\\\n",
    "    \\frac{\\partial L}{\\partial z} &= \\frac{\\partial L}{\\partial a} \\frac{\\partial a}{\\partial z}\\\\\n",
    "    \\\\\n",
    "    \\text{derivative of loss over w --> dw}\\\\\n",
    "    \\frac{\\partial L}{\\partial w} &= \\frac{\\partial L}{\\partial a} \\frac{\\partial a}{\\partial z} \\frac{\\partial z}{\\partial w}\n",
    "    \\\\\n",
    "    \\text{derivative of loss over b --> db}\\\\\n",
    "    \\frac{\\partial L}{\\partial b} &= \\frac{\\partial L}{\\partial a} \\frac{\\partial a}{\\partial z} \\frac{\\partial z}{\\partial b}\n",
    "\\end{align}\n",
    "\n",
    "\n",
    "* y_pred_clipped\n",
    "    * numpy.clip is used to clip the values from min and max values like bandpass filter\n",
    "    * min = 1.0 * 10^-7 \n",
    "    * max = 1 - 1.0 * 10^-7\n",
    "    \n",
    "\n",
    "* correct_confidences \n",
    "    * probabilities for target value that has been \n",
    "    * calculated earlier \n",
    "    * only for categorical variables"
   ]
  },
  {
   "cell_type": "code",
   "execution_count": 35,
   "metadata": {},
   "outputs": [],
   "source": [
    "class LossCategoricalCrossEntropy(Loss):\n",
    "    \"\"\"Categorical Cross entropy loss \n",
    "    \"\"\"\n",
    "    \n",
    "    def forward(self, y_pred, y_true):\n",
    "        \"\"\"forward propogation calculation \n",
    "\n",
    "        Args:\n",
    "            y_pred (numpy.ndarray) : predictions generated\n",
    "            y_true (numpy.ndarray) : actual values\n",
    "        \"\"\"\n",
    "\n",
    "        # get total number of rows/samples\n",
    "        samples = len(y_pred)\n",
    "\n",
    "        \n",
    "        y_pred_clipped = np.clip(y_pred,1e-7,1-1e-7)\n",
    "        \n",
    "        correct_confidences = None\n",
    "        if len(y_true.shape) == 1:\n",
    "            correct_confidences = y_pred_clipped[range(samples),y_true]\n",
    "        \n",
    "        elif len(y_true.shape) == 2:\n",
    "            correct_confidences = np.sum(y_pred_clipped * y_true, axis = 1)\n",
    "        \n",
    "        else:\n",
    "            pass\n",
    "        \n",
    "        # losses\n",
    "        negative_log_Likelihoods = -np.log(correct_confidences)\n",
    "        return negative_log_Likelihoods"
   ]
  }
 ],
 "metadata": {
  "kernelspec": {
   "display_name": "Python 3.8.3 64-bit ('base': conda)",
   "language": "python",
   "name": "python383jvsc74a57bd01da5964c5502736b4e0a0c4398fb3b913682175f516e99bd48540f11726a612c"
  },
  "language_info": {
   "codemirror_mode": {
    "name": "ipython",
    "version": 3
   },
   "file_extension": ".py",
   "mimetype": "text/x-python",
   "name": "python",
   "nbconvert_exporter": "python",
   "pygments_lexer": "ipython3",
   "version": "3.8.3"
  }
 },
 "nbformat": 4,
 "nbformat_minor": 4
}
