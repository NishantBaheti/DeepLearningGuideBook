{
 "cells": [
  {
   "cell_type": "markdown",
   "metadata": {},
   "source": [
    "# Logistic Regression From Scratch\n"
   ]
  },
  {
   "cell_type": "markdown",
   "metadata": {},
   "source": [
    "## References\n"
   ]
  },
  {
   "cell_type": "code",
   "execution_count": 1,
   "metadata": {},
   "outputs": [],
   "source": [
    "import matplotlib.pyplot as plt\n",
    "import numpy as np\n",
    "from sklearn.datasets import make_classification\n"
   ]
  },
  {
   "cell_type": "markdown",
   "metadata": {},
   "source": [
    "## Dataset\n"
   ]
  },
  {
   "cell_type": "code",
   "execution_count": 2,
   "metadata": {},
   "outputs": [],
   "source": [
    "n_features, n_samples = 10, 1000\n",
    "x, y = make_classification(\n",
    "    n_samples=n_samples,\n",
    "    n_features=n_features,\n",
    "    n_classes=2,\n",
    "    n_clusters_per_class=1,\n",
    "    random_state=0,\n",
    ")\n",
    "X = x.T\n",
    "Y = y.reshape(-1, 1).T\n"
   ]
  },
  {
   "cell_type": "markdown",
   "metadata": {},
   "source": [
    "## Metrics\n"
   ]
  },
  {
   "cell_type": "markdown",
   "metadata": {},
   "source": [
    "### Cross-Entropy Loss\n",
    "\n",
    "\\begin{align*}\n",
    "L(y, \\hat{y}) = - [ y \\times \\log{\\hat{y}} + (1 - y) \\times \\log{(1 - \\hat{y})}]\n",
    "\\end{align*}\n"
   ]
  },
  {
   "cell_type": "code",
   "execution_count": 3,
   "metadata": {},
   "outputs": [],
   "source": [
    "\n",
    "def loss(y, y_hat):\n",
    "    return -((y * np.log(y_hat)) + ((1 - y) * np.log(1 - y_hat))).mean()\n",
    "\n"
   ]
  },
  {
   "cell_type": "markdown",
   "metadata": {},
   "source": [
    "\n",
    "### Accuracy\n",
    "\n",
    "\\begin{align*}\n",
    "\\text{Accuracy } = \\frac{1}{m} \\sum_{i=0}^{m} I(y_i == \\hat{y_i})\n",
    "\\end{align*}\n"
   ]
  },
  {
   "cell_type": "code",
   "execution_count": 4,
   "metadata": {},
   "outputs": [],
   "source": [
    "\n",
    "def accuracy(y, y_hat, threshold=0.5):\n",
    "    return np.int32(np.int32(y_hat > threshold) == y).sum() / y.shape[1]\n"
   ]
  },
  {
   "cell_type": "markdown",
   "metadata": {},
   "source": [
    "## Activation Function\n",
    "\n",
    "\n",
    "\\begin{align*}\n",
    "\\text{Sigmoid } = \\sigma{(x)} &= \\frac{1}{1 + e^{-x}}\\\\\n",
    "\\\\\n",
    "\\text{Derivative of Sigmoid } = \\frac{\\delta \\sigma{(x)}}{\\delta x} &= \\frac{-1}{(1 + e^{-x})^2} . {- e^{-x}}\\\\\n",
    "&= \\frac{1}{1 + e^{-x}} . \\frac{e^{-x}}{1 + e^{-x}}\\\\\n",
    "&= \\frac{1}{1 + e^{-x}} . \\frac{1+e^{-x} - 1}{1 + e^{-x}}\\\\\n",
    "\\frac{\\delta \\sigma{(x)}}{\\delta x} &= \\sigma(x) . (1 - \\sigma(x))\n",
    "\\end{align*}\n"
   ]
  },
  {
   "cell_type": "code",
   "execution_count": 5,
   "metadata": {},
   "outputs": [],
   "source": [
    "def sigmoid(x):\n",
    "    return 1 / (1 + np.exp(-x))\n",
    "\n",
    "\n",
    "def derivative_sigmoid(x):\n",
    "    return sigmoid(x) * (1 - sigmoid(x))\n"
   ]
  },
  {
   "cell_type": "markdown",
   "metadata": {},
   "source": [
    "## Architecture\n",
    "\n",
    "\n",
    "```sh\n",
    "        X ----------+\n",
    "                    |               FORWARD PASS >>>>\n",
    "                    V              \n",
    "        w --------+>    z = w.X + b ----> a = sigmoid(z) ----> L(a, y) \n",
    "        <--dw--     A                                 \n",
    "                    |     <+--dz--           <+--da--\n",
    "        b ----------+               <<<<< BACKWARD PASS \n",
    "        <--db--\n",
    "```\n",
    "\n",
    "\\begin{align*}\n",
    "X &= (n \\times m ) \\\\ \n",
    "Y &= (1 \\times m ) = z \\\\\n",
    "w &= (n \\times 1 ) = dw\\\\\n",
    "b &= (1 \\times 1 ) = db\\\\\n",
    "\\end{align*}\n"
   ]
  },
  {
   "cell_type": "code",
   "execution_count": 6,
   "metadata": {},
   "outputs": [
    {
     "data": {
      "text/plain": [
       "((10, 1000), (1, 1000))"
      ]
     },
     "execution_count": 6,
     "metadata": {},
     "output_type": "execute_result"
    }
   ],
   "source": [
    "\n",
    "X.shape, Y.shape\n"
   ]
  },
  {
   "cell_type": "markdown",
   "metadata": {},
   "source": [
    "### Forward Pass\n",
    "\n",
    "\\begin{align*}\n",
    "z &= w^T . X + b \\\\\n",
    "(1 \\times m) &= (1 \\times n) . (n \\times m) + (1 \\times 1) \\\\\\\\\n",
    "a &= \\sigma{(z)} \\\\\n",
    "(1 \\times m) &= (1 \\times m)\n",
    "\\end{align*}\n"
   ]
  },
  {
   "cell_type": "code",
   "execution_count": 7,
   "metadata": {},
   "outputs": [],
   "source": [
    "\n",
    "def forward(X, w, b):\n",
    "\n",
    "    z = (w.T @ X) + b\n",
    "    a = sigmoid(z)\n",
    "\n",
    "    return a\n"
   ]
  },
  {
   "cell_type": "markdown",
   "metadata": {},
   "source": [
    "### Backward Pass\n",
    "\n",
    "\\begin{align*}\n",
    "L(y, a) &= - [ y \\times \\log{a} + (1 - y) \\times \\log{(1 - a)}] \\\\\\\\\n",
    "da = \\frac{\\delta L}{\\delta a} &= - \\frac{y}{a} + \\frac{1 - y}{1 - a} \\\\\n",
    "(1 \\times m) \\\\\\\\\n",
    "dz = \\frac{\\delta L}{\\delta z} &= \\frac{\\delta L}{\\delta a} . \\frac{\\delta a}{\\delta z} = da.\\frac{\\delta a}{\\delta z} = -( \\frac{y}{a} - \\frac{1 - y}{1 - a} ) . (a(1-a)) = a - y \\\\\n",
    "(1 \\times m) \\\\\\\\\n",
    "dw = \\frac{\\delta L}{\\delta w} &= \\frac{\\delta L}{\\delta z} . \\frac{\\delta z}{\\delta w} = X. dz^T \\\\\n",
    "(1 \\times n) \\\\\\\\\n",
    "db = \\frac{\\delta L}{\\delta b} &= \\frac{\\delta L}{\\delta z} . \\frac{\\delta z}{\\delta b} = dz \\\\\n",
    "(1 \\times 1)\n",
    "\\end{align*}\n"
   ]
  },
  {
   "cell_type": "code",
   "execution_count": 8,
   "metadata": {},
   "outputs": [],
   "source": [
    "def backward(X, Y, a):\n",
    "    # da = -(Y / a) + ((1 - Y) / (1 - a))\n",
    "    # dz = da * derivative_sigmoid(a)\n",
    "\n",
    "    dz = a - y\n",
    "\n",
    "    dw = np.mean(X @ dz.T, axis=1, keepdims=True)\n",
    "    db = np.mean(dz, axis=1, keepdims=True)\n",
    "\n",
    "    return dw, db\n"
   ]
  },
  {
   "cell_type": "markdown",
   "metadata": {},
   "source": [
    "## Gradient Descent Algorithm\n"
   ]
  },
  {
   "cell_type": "code",
   "execution_count": 9,
   "metadata": {},
   "outputs": [
    {
     "data": {
      "image/png": "[encoded data removed]",
      "text/plain": [
       "<Figure size 800x400 with 2 Axes>"
      ]
     },
     "metadata": {},
     "output_type": "display_data"
    }
   ],
   "source": [
    "\n",
    "w = np.random.rand(n_features, 1)\n",
    "b = np.random.rand(1, 1)\n",
    "\n",
    "loss_history = []\n",
    "accuracy_history = []\n",
    "lr = 0.0001\n",
    "\n",
    "for epoch in range(1000):\n",
    "\n",
    "    y_hat = a = forward(X, w, b)\n",
    "    dw, db = backward(X, Y, a)\n",
    "\n",
    "    w = w - (lr * dw)\n",
    "    b = b - (lr * db)\n",
    "\n",
    "    if epoch % 50 == 0:\n",
    "\n",
    "        prediction = forward(X, w, b)\n",
    "        loss_val = loss(Y, prediction)\n",
    "        accuracy_val = accuracy(Y, prediction)\n",
    "\n",
    "        loss_history.append(loss_val)\n",
    "        accuracy_history.append(accuracy_val)\n",
    "\n",
    "fig, ax = plt.subplots(1, 2, figsize=(8, 4))\n",
    "ax[0].plot(accuracy_history, \"o-\")\n",
    "ax[1].plot(loss_history, \"o-\")\n",
    "\n",
    "fig.tight_layout()\n",
    "fig.show(warn=False)"
   ]
  }
 ],
 "metadata": {
  "kernelspec": {
   "display_name": ".venv",
   "language": "python",
   "name": "python3"
  },
  "language_info": {
   "codemirror_mode": {
    "name": "ipython",
    "version": 3
   },
   "file_extension": ".py",
   "mimetype": "text/x-python",
   "name": "python",
   "nbconvert_exporter": "python",
   "pygments_lexer": "ipython3",
   "version": "3.10.13"
  }
 },
 "nbformat": 4,
 "nbformat_minor": 2
}
