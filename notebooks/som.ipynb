{
 "cells": [
  {
   "cell_type": "markdown",
   "metadata": {},
   "source": [
    "# Kohonen Self-Organizing Maps\n",
    "\n",
    "`Work in progress`\n",
    "\n",
    "- Unsupervised Learning\n",
    "- Dimensionality Reduction Method\n",
    "\n",
    "\n",
    "`There is no back propagation`"
   ]
  }
 ],
 "metadata": {
  "interpreter": {
   "hash": "dba788e4a50ad11c3aca04f6a487ccbbf2decea49c956f88ab099965f16291a4"
  },
  "kernelspec": {
   "display_name": "Python 3.8.3 64-bit ('base': conda)",
   "language": "python",
   "name": "python3"
  },
  "language_info": {
   "codemirror_mode": {
    "name": "ipython",
    "version": 3
   },
   "file_extension": ".py",
   "mimetype": "text/x-python",
   "name": "python",
   "nbconvert_exporter": "python",
   "pygments_lexer": "ipython3",
   "version": "3.8.3"
  }
 },
 "nbformat": 4,
 "nbformat_minor": 4
}
