{
 "cells": [
  {
   "cell_type": "markdown",
   "metadata": {
    "tags": []
   },
   "source": [
    "# Activation Functions "
   ]
  },
  {
   "cell_type": "markdown",
   "metadata": {
    "tags": []
   },
   "source": [
    "Notes:\n",
    "\n",
    "1. Introducing non linearity to the network. Why?\n",
    "2. According to me we need one parameter to compare all the nodes results after learning and passing the value to upcoming nodes.\n",
    "3. To make sense of the data and a mapping for approximation.\n",
    "4. Understand what is the impact of weights and biases changing value to the network/nodes.\n",
    "    If there is only linear fx then it can only fit linear data but if we have not linear data like a sine wave then it will fail to do so. \n",
    "5. If there is no activate function then the whole network will be similar to a one linear node.\n",
    "\n",
    "$w^T(w^T (w^T  x + b) + b) + b ... = output$ "
   ]
  },
  {
   "cell_type": "markdown",
   "metadata": {},
   "source": [
    "<img src='diags/activation&DenseLayer1.drawio.svg'>"
   ]
  },
  {
   "cell_type": "code",
   "execution_count": 3,
   "metadata": {},
   "outputs": [],
   "source": [
    "import numpy as np\n",
    "import matplotlib.pyplot as plt"
   ]
  },
  {
   "cell_type": "markdown",
   "metadata": {
    "tags": []
   },
   "source": [
    "## Sigmoid\n",
    "\n",
    "$f(x) = \\frac{1}{(1 + e^{-x})}$\n",
    "\n",
    "* granular\n",
    "* between 0 and 1\n",
    "* Comparatively complex calcultaion\n"
   ]
  },
  {
   "cell_type": "code",
   "execution_count": 17,
   "metadata": {},
   "outputs": [],
   "source": [
    "class ActivationSigmoid:\n",
    "    \"\"\"Sigmoid Activation Fx\n",
    "    \"\"\"   \n",
    "    def forward(self, inputs):\n",
    "        \"\"\"Apply Sigmoid to input\n",
    "        \"\"\"\n",
    "        self.output = 1 / (1 + np.exp(-inputs))"
   ]
  },
  {
   "cell_type": "code",
   "execution_count": 18,
   "metadata": {},
   "outputs": [
    {
     "data": {
      "image/png": "[encoded data removed]",
      "text/plain": [
       "<Figure size 432x288 with 1 Axes>"
      ]
     },
     "metadata": {
      "needs_background": "light"
     },
     "output_type": "display_data"
    }
   ],
   "source": [
    "data = np.linspace(-10, 10, 100)\n",
    "act = ActivationSigmoid()\n",
    "act.forward(data)\n",
    "\n",
    "\n",
    "plt.plot(data,act.output,'k.-')\n",
    "plt.grid()"
   ]
  },
  {
   "cell_type": "markdown",
   "metadata": {
    "tags": []
   },
   "source": [
    "## Stepwise\n",
    "\n",
    "$f(x) = 0$  | if $x \\leq 0$\n",
    "\n",
    "$f(x) = 1$  | if $x \\gt 0$\n",
    "\n",
    "* non granular \n",
    "* only 0 and 1"
   ]
  },
  {
   "cell_type": "code",
   "execution_count": 19,
   "metadata": {},
   "outputs": [],
   "source": [
    "class ActivationStepwise:\n",
    "    \"\"\"Stepwise Activation Fx\n",
    "    \"\"\"\n",
    "    def forward(self, inputs):\n",
    "        \"\"\"Apply Stepwise to inputs\n",
    "\n",
    "        Args:\n",
    "            inputs (numpy.ndarray) : input matrix\n",
    "        \"\"\"\n",
    "        self.inputs = inputs # save inputs \n",
    "        self.output = (inputs > 0).astype('int') # calculate from inputs"
   ]
  },
  {
   "cell_type": "code",
   "execution_count": 20,
   "metadata": {},
   "outputs": [
    {
     "data": {
      "image/png": "[encoded data removed]",
      "text/plain": [
       "<Figure size 432x288 with 1 Axes>"
      ]
     },
     "metadata": {
      "needs_background": "light"
     },
     "output_type": "display_data"
    }
   ],
   "source": [
    "data = np.linspace(-10, 10, 100)\n",
    "act = ActivationStepwise()\n",
    "act.forward(data)\n",
    "\n",
    "\n",
    "plt.plot(data,act.output,'k.-')\n",
    "plt.grid()"
   ]
  },
  {
   "cell_type": "markdown",
   "metadata": {
    "tags": []
   },
   "source": [
    "## Relu\n",
    "\n",
    "\n",
    "$f(x) = 0$  | if $x \\leq 0$\n",
    "\n",
    "$f(x) = x$  | if $x \\gt 0$\n",
    "\n",
    "* granular\n",
    "* between 0 to x\n",
    "* easy calculation \n",
    "* almost linear but rectified so less than zeros are not allowed.so introducing slight non linearity makes it eligible for an activation function but also inherently easy and fast calculation than sigmoid."
   ]
  },
  {
   "cell_type": "code",
   "execution_count": 21,
   "metadata": {},
   "outputs": [],
   "source": [
    "class ActivationReLU:\n",
    "    \"\"\"ReLU Activation Fx\n",
    "    \"\"\"\n",
    "    \n",
    "    def forward(self, inputs):\n",
    "        \"\"\"Apply ReLU to input\n",
    "        \n",
    "        Args:\n",
    "            inputs (numpy.ndarray) : input matrix\n",
    "        \"\"\"\n",
    "        self.inputs = inputs # save inputs \n",
    "        self.output = np.maximum(0, inputs) # calculate from inputs\n",
    "\n",
    "    def backward(self, dvalues):\n",
    "        \"\"\"Apply backward propogation\n",
    "\n",
    "        Args:\n",
    "            dvalues (numpy.ndarray) : inputs from previous later in backward prop\n",
    "        \"\"\"\n",
    "        self.dinputs = dvalues.copy()\n",
    "        self.dinputs[self.inputs <= 0] = 0"
   ]
  },
  {
   "cell_type": "code",
   "execution_count": 22,
   "metadata": {},
   "outputs": [
    {
     "data": {
      "image/png": "[encoded data removed]",
      "text/plain": [
       "<Figure size 432x288 with 1 Axes>"
      ]
     },
     "metadata": {
      "needs_background": "light"
     },
     "output_type": "display_data"
    }
   ],
   "source": [
    "data = np.linspace(-10, 10, 100)\n",
    "act = ActivationReLU()\n",
    "act.forward(data)\n",
    "\n",
    "\n",
    "plt.plot(data,act.output,'k.-')\n",
    "plt.grid()"
   ]
  },
  {
   "cell_type": "markdown",
   "metadata": {
    "tags": []
   },
   "source": [
    "## Leaky Relu\n",
    "\n",
    "\n",
    "$f(x) = 0.01x$  | if $x \\leq 0$\n",
    "\n",
    "$f(x) = x$  | if $x \\gt 0$"
   ]
  },
  {
   "cell_type": "code",
   "execution_count": 34,
   "metadata": {},
   "outputs": [],
   "source": [
    "class ActivationLeakyReLU:\n",
    "    \"\"\"ReLU Activation Fx\n",
    "    \"\"\"\n",
    "    \n",
    "    def forward(self, inputs):\n",
    "        \"\"\"Apply Leaky ReLU to input\n",
    "        \n",
    "        Args:\n",
    "            inputs (numpy.ndarray) : input matrix\n",
    "        \"\"\"\n",
    "        self.inputs = inputs # save inputs \n",
    "        self.output = np.where(inputs > 0,inputs,0.01 * inputs)"
   ]
  },
  {
   "cell_type": "code",
   "execution_count": 40,
   "metadata": {},
   "outputs": [
    {
     "data": {
      "image/png": "[encoded data removed]",
      "text/plain": [
       "<Figure size 432x288 with 1 Axes>"
      ]
     },
     "metadata": {
      "needs_background": "light"
     },
     "output_type": "display_data"
    }
   ],
   "source": [
    "data = np.linspace(-100, 20, 100)\n",
    "act = ActivationLeakyReLU()\n",
    "act.forward(data)\n",
    "\n",
    "\n",
    "plt.plot(data,act.output,'k.-')\n",
    "plt.grid()"
   ]
  },
  {
   "cell_type": "markdown",
   "metadata": {},
   "source": [
    "## Softplus\n",
    "\n",
    "`smooth ReLU function`\n",
    "\n",
    "\\begin{align}\n",
    "    f(x) &= \\log{(1 + \\exp(x))}\n",
    "\\end{align}"
   ]
  },
  {
   "cell_type": "code",
   "execution_count": 1,
   "metadata": {},
   "outputs": [],
   "source": [
    "class Softplus:\n",
    "    def forward(self, inputs):\n",
    "        \"\"\"Apply Leaky ReLU to input\n",
    "\n",
    "        Args:\n",
    "            inputs (numpy.ndarray) : input matrix\n",
    "        \"\"\"\n",
    "        self.inputs = inputs # save inputs\n",
    "        self.output = np.log(1 + np.exp(self.inputs))"
   ]
  },
  {
   "cell_type": "code",
   "execution_count": 4,
   "metadata": {},
   "outputs": [
    {
     "data": {
      "image/png": "[encoded data removed]",
      "text/plain": [
       "<Figure size 432x288 with 1 Axes>"
      ]
     },
     "metadata": {
      "needs_background": "light"
     },
     "output_type": "display_data"
    }
   ],
   "source": [
    "data = np.linspace(-10, 10, 100)\n",
    "act = Softplus()\n",
    "act.forward(data)\n",
    "\n",
    "\n",
    "plt.plot(data,act.output,'k.-')\n",
    "plt.grid()"
   ]
  },
  {
   "cell_type": "markdown",
   "metadata": {
    "tags": []
   },
   "source": [
    "## Hyperbolic Tangent(Tanh)\n",
    "\n",
    "\\begin{align}\n",
    "    f(x) &= Tanh(x)\\\\\n",
    "         &= \\frac{2}{1 + e^{-2x}} - 1\\\\\n",
    "         &= \\frac{1 - e^{-2x}}{1 + e^{-2x}}\\\\\n",
    "         &= \\frac{e^x - e^{-x}}{e^x + e^{-x}}\n",
    "\\end{align}"
   ]
  },
  {
   "cell_type": "code",
   "execution_count": 48,
   "metadata": {},
   "outputs": [],
   "source": [
    "class ActivationTanh:\n",
    "    \n",
    "    def forward(self, inputs):\n",
    "        \"\"\"Apply Leaky ReLU to input\n",
    "        \n",
    "        Args:\n",
    "            inputs (numpy.ndarray) : input matrix\n",
    "        \"\"\"\n",
    "        self.inputs = inputs # save inputs\n",
    "        \n",
    "#         # scratch\n",
    "#         ez = np.exp(inputs)\n",
    "#         e_z = np.exp(-inputs)\n",
    "#         self.output = (ez - e_z)/(ez + e_z)\n",
    "\n",
    "        self.output = np.tanh(inputs)"
   ]
  },
  {
   "cell_type": "code",
   "execution_count": 51,
   "metadata": {},
   "outputs": [
    {
     "data": {
      "image/png": "[encoded data removed]",
      "text/plain": [
       "<Figure size 432x288 with 1 Axes>"
      ]
     },
     "metadata": {
      "needs_background": "light"
     },
     "output_type": "display_data"
    }
   ],
   "source": [
    "data = np.linspace(-10, 10, 100)\n",
    "act = ActivationTanh()\n",
    "act.forward(data)\n",
    "\n",
    "\n",
    "plt.plot(data,act.output,'k.-')\n",
    "plt.grid()"
   ]
  },
  {
   "cell_type": "markdown",
   "metadata": {
    "tags": []
   },
   "source": [
    "## Softmax\n",
    "\n",
    "\\begin{align}\n",
    "    \\sigma(\\mathbf{z})_i &= \\frac{e^{z_i}}{\\sum_{j=1}^m e^{z_j}} \n",
    "    \\\\ \n",
    "    \\\\ \n",
    "    & \\text{ for } i = 1, \\dotsc , m \\text{ and } \\mathbf z =(z_1,\\dotsc,z_m) \\in R^m\\\\\n",
    "    \\\\\n",
    "    \\sigma\t&= \t\\text{softmax}\\\\\n",
    "    \\vec{z}\t&= \t\\text{input vector}\\\\\n",
    "    e^{z_{i}}\t&= \t\\text{standard exponential function for input vector}\\\\\n",
    "    K\t&= \t\\text{number of classes in the multi-class classifier}\\\\\n",
    "    e^{z_{j}}\t&= \t\\text{standard exponential function for output vector}\\\\\n",
    "\\end{align}"
   ]
  },
  {
   "cell_type": "markdown",
   "metadata": {},
   "source": [
    "here z is actually z = x - x.max(). because exponential values increase really fast. and that can cause out of memory error.\n",
    "so we can't use x directly.\n",
    "\n",
    "when x - x.max() is done then the  largest value is 0. so values will not blow out."
   ]
  },
  {
   "cell_type": "code",
   "execution_count": 25,
   "metadata": {},
   "outputs": [
    {
     "name": "stderr",
     "output_type": "stream",
     "text": [
      "<ipython-input-25-87fe7bad57ec>:1: RuntimeWarning: overflow encountered in exp\n",
      "  np.exp(1000) # like this\n"
     ]
    },
    {
     "data": {
      "text/plain": [
       "inf"
      ]
     },
     "execution_count": 25,
     "metadata": {},
     "output_type": "execute_result"
    }
   ],
   "source": [
    "np.exp(1000) # like this"
   ]
  },
  {
   "cell_type": "code",
   "execution_count": 26,
   "metadata": {},
   "outputs": [],
   "source": [
    "class ActivationSoftmax:\n",
    "\n",
    "    def forward(self, inputs):\n",
    "        \"\"\"Forward propogation calculation\n",
    "\n",
    "        Args:\n",
    "            inputs (numpy.ndarray) : input matrix\n",
    "        \"\"\"\n",
    "        exp_values = np.exp(inputs - inputs.max(axis=1, keepdims=True))\n",
    "        probabilites = exp_values / exp_values.sum(axis=1, keepdims=True)\n",
    "        self.output = probabilites"
   ]
  },
  {
   "cell_type": "code",
   "execution_count": 27,
   "metadata": {},
   "outputs": [],
   "source": [
    "data = np.linspace(-10,100,100).reshape(1,100) #(1,100)"
   ]
  },
  {
   "cell_type": "code",
   "execution_count": 28,
   "metadata": {},
   "outputs": [
    {
     "data": {
      "image/png": "[encoded data removed]",
      "text/plain": [
       "<Figure size 432x288 with 1 Axes>"
      ]
     },
     "metadata": {
      "needs_background": "light"
     },
     "output_type": "display_data"
    }
   ],
   "source": [
    "t_exp = np.exp(data)\n",
    "t_prob = t_exp / np.sum(t_exp, axis=1, keepdims=True)\n",
    "plt.plot(data[0],t_prob[0],'k.-')\n",
    "plt.grid()"
   ]
  },
  {
   "cell_type": "code",
   "execution_count": 29,
   "metadata": {},
   "outputs": [
    {
     "data": {
      "image/png": "[encoded data removed]",
      "text/plain": [
       "<Figure size 432x288 with 1 Axes>"
      ]
     },
     "metadata": {
      "needs_background": "light"
     },
     "output_type": "display_data"
    }
   ],
   "source": [
    "act = ActivationSoftmax()\n",
    "act.forward(data)\n",
    "\n",
    "plt.plot((data - data.max(axis=1, keepdims=True))[0],act.output[0],'k.-')\n",
    "plt.grid()"
   ]
  },
  {
   "cell_type": "markdown",
   "metadata": {
    "tags": []
   },
   "source": [
    "## Gaussian\n",
    "\n",
    "\\begin{align}\n",
    "    f(x) = exp(-x^2)\n",
    "\\end{align}"
   ]
  },
  {
   "cell_type": "code",
   "execution_count": 10,
   "metadata": {},
   "outputs": [],
   "source": [
    "class ActivationGaussian:\n",
    "\n",
    "    def forward(self, inputs):\n",
    "        \"\"\"Forward propogation calculation\n",
    "\n",
    "        Args:\n",
    "            inputs (numpy.ndarray) : input matrix\n",
    "        \"\"\"\n",
    "        self.output = np.exp(-(inputs**2))"
   ]
  },
  {
   "cell_type": "code",
   "execution_count": 11,
   "metadata": {},
   "outputs": [
    {
     "data": {
      "image/png": "[encoded data removed]",
      "text/plain": [
       "<Figure size 432x288 with 1 Axes>"
      ]
     },
     "metadata": {
      "needs_background": "light"
     },
     "output_type": "display_data"
    }
   ],
   "source": [
    "data = np.linspace(-10, 10, 100)\n",
    "act = ActivationGaussian()\n",
    "act.forward(data)\n",
    "\n",
    "plt.plot(data,act.output,'k.-')\n",
    "plt.grid()"
   ]
  },
  {
   "cell_type": "markdown",
   "metadata": {},
   "source": [
    "  "
   ]
  }
 ],
 "metadata": {
  "kernelspec": {
   "display_name": "Python 3",
   "language": "python",
   "name": "python3"
  },
  "language_info": {
   "codemirror_mode": {
    "name": "ipython",
    "version": 3
   },
   "file_extension": ".py",
   "mimetype": "text/x-python",
   "name": "python",
   "nbconvert_exporter": "python",
   "pygments_lexer": "ipython3",
   "version": "3.8.3"
  }
 },
 "nbformat": 4,
 "nbformat_minor": 4
}
