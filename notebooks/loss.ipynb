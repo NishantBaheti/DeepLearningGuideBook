{
 "cells": [
  {
   "cell_type": "markdown",
   "metadata": {},
   "source": [
    "# Loss "
   ]
  },
  {
   "cell_type": "code",
   "execution_count": 30,
   "metadata": {},
   "outputs": [],
   "source": [
    "class Loss(ABC):\n",
    "    \"\"\"Loss Meta class \n",
    "    \"\"\"\n",
    "    @abstractmethod\n",
    "    def __init__(self):\n",
    "        pass\n",
    "\n",
    "    @abstractmethod\n",
    "    def forward(self):\n",
    "        \"\"\"mandatory method for child class\n",
    "        \"\"\"\n",
    "        pass\n",
    "\n",
    "    def calculate(self, output, y):\n",
    "        \"\"\"Calculate mean loss\n",
    "        \n",
    "        Args:\n",
    "            output : output from the layer\n",
    "            y : truth value/ target/ expected outcome\n",
    "        \"\"\"\n",
    "        # it can be individual outcome of different kind of loss functions\n",
    "        sample_losses = self.forward(output, y) \n",
    "        \n",
    "        # calculating mean\n",
    "        data_loss = np.mean(sample_losses)\n",
    "        return data_loss"
   ]
  },
  {
   "cell_type": "markdown",
   "metadata": {},
   "source": [
    "## Categorical Cross Entropy\n",
    "\n",
    "\\begin{align*}\n",
    "L(a^{[l]},y) &= y log(a^{[l]}) + (1 - y) log(1 - a^{[l]})\\\\\n",
    "\\\\\n",
    "\\text{derivative of loss over a --> da}\\\\\n",
    "\\frac{\\partial L}{\\partial a} &= \\big[ \\frac{y}{a} + \\frac{1 -y}{1 - a}(-1) \\big]\\\\\n",
    "\\frac{\\partial L}{\\partial a} &= \\big[ \\frac{y}{a} - \\frac{1 -y}{1 - a} \\big]\\\\\n",
    "\\\\\n",
    "\\text{derivative of loss over z --> dz}\\\\\n",
    "\\frac{\\partial L}{\\partial z} &= \\frac{\\partial L}{\\partial a} \\frac{\\partial a}{\\partial z}\\\\\n",
    "\\\\\n",
    "\\text{derivative of loss over w --> dw}\\\\\n",
    "\\frac{\\partial L}{\\partial w} &= \\frac{\\partial L}{\\partial a} \\frac{\\partial a}{\\partial z} \\frac{\\partial z}{\\partial w}\n",
    "\\\\\n",
    "\\text{derivative of loss over b --> db}\\\\\n",
    "\\frac{\\partial L}{\\partial b} &= \\frac{\\partial L}{\\partial a} \\frac{\\partial a}{\\partial z} \\frac{\\partial z}{\\partial b}\n",
    "\\end{align*}\n",
    "\n",
    "\n",
    "* y_pred_clipped\n",
    "    * numpy.clip is used to clip the values from min and max values like bandpass filter\n",
    "    * min = 1.0 * 10^-7 \n",
    "    * max = 1 - 1.0 * 10^-7\n",
    "    \n",
    "\n",
    "* correct_confidences \n",
    "    * probabilities for target value that has been \n",
    "    * calculated earlier \n",
    "    * only for categorical variables"
   ]
  },
  {
   "cell_type": "code",
   "execution_count": 31,
   "metadata": {},
   "outputs": [],
   "source": [
    "class LossCategoricalCrossEntropy(Loss):\n",
    "    \"\"\"Categorical Cross entropy loss \n",
    "    \"\"\"\n",
    "    \n",
    "    def forward(self, y_pred, y_true):\n",
    "        \"\"\"forward propogation calculation \n",
    "\n",
    "        Args:\n",
    "            y_pred (numpy.ndarray) : predictions generated\n",
    "            y_true (numpy.ndarray) : actual values\n",
    "        \"\"\"\n",
    "\n",
    "        # get total number of rows/samples\n",
    "        samples = len(y_pred)\n",
    "\n",
    "        \n",
    "        y_pred_clipped = np.clip(y_pred,1e-7,1-1e-7)\n",
    "        \n",
    "        correct_confidences = None\n",
    "        if len(y_true.shape) == 1:\n",
    "            correct_confidences = y_pred_clipped[range(samples),y_true]\n",
    "        \n",
    "        elif len(y_true.shape) == 2:\n",
    "            correct_confidences = np.sum(y_pred_clipped * y_true, axis = 1)\n",
    "        \n",
    "        else:\n",
    "            pass\n",
    "        \n",
    "        # losses\n",
    "        negative_log_Likelihoods = -np.log(correct_confidences)\n",
    "        return negative_log_Likelihoods"
   ]
  }
 ],
 "metadata": {
  "kernelspec": {
   "display_name": "Python 3.8.3 64-bit ('base': conda)",
   "language": "python",
   "name": "python383jvsc74a57bd01da5964c5502736b4e0a0c4398fb3b913682175f516e99bd48540f11726a612c"
  },
  "language_info": {
   "codemirror_mode": {
    "name": "ipython",
    "version": 3
   },
   "file_extension": ".py",
   "mimetype": "text/x-python",
   "name": "python",
   "nbconvert_exporter": "python",
   "pygments_lexer": "ipython3",
   "version": "3.8.3"
  }
 },
 "nbformat": 4,
 "nbformat_minor": 4
}
