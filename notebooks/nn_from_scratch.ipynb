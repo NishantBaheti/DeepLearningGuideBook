{
 "cells": [
  {
   "cell_type": "markdown",
   "metadata": {},
   "source": [
    "# Neural Network From Scratch\n"
   ]
  },
  {
   "cell_type": "markdown",
   "metadata": {},
   "source": [
    "## References"
   ]
  },
  {
   "cell_type": "code",
   "execution_count": 100,
   "metadata": {},
   "outputs": [],
   "source": [
    "\n",
    "import matplotlib.pyplot as plt\n",
    "import numpy as np\n",
    "from sklearn.datasets import make_classification\n"
   ]
  },
  {
   "cell_type": "markdown",
   "metadata": {},
   "source": [
    "## Dataset"
   ]
  },
  {
   "cell_type": "code",
   "execution_count": 101,
   "metadata": {},
   "outputs": [],
   "source": [
    "\n",
    "n_features, n_samples = 10, 1000\n",
    "x, y = make_classification(\n",
    "    n_samples=n_samples,\n",
    "    n_features=n_features,\n",
    "    n_classes=2,\n",
    "    n_clusters_per_class=1,\n",
    "    random_state=0,\n",
    ")\n",
    "X = x.T\n",
    "Y = y.reshape(-1, 1).T\n"
   ]
  },
  {
   "cell_type": "markdown",
   "metadata": {},
   "source": [
    "## Metrics\n"
   ]
  },
  {
   "cell_type": "markdown",
   "metadata": {},
   "source": [
    "### Cross-Entropy Loss\n",
    "\n",
    "\n",
    "\\begin{align*}\n",
    "L(y, \\hat{y}) = - [ y \\times \\log{\\hat{y}} + (1 - y) \\times \\log{(1 - \\hat{y})}]\n",
    "\\end{align*}\n"
   ]
  },
  {
   "cell_type": "code",
   "execution_count": 102,
   "metadata": {},
   "outputs": [],
   "source": [
    "def loss(y, y_hat):\n",
    "    return -((y * np.log(y_hat)) + ((1 - y) * np.log(1 - y_hat))).mean()\n"
   ]
  },
  {
   "cell_type": "markdown",
   "metadata": {},
   "source": [
    "### Accuracy\n",
    "\n",
    "\\begin{align*}\n",
    "\\text{Accuracy } = \\frac{1}{m} \\sum_{i=0}^{m} I(y_i == \\hat{y_i})\n",
    "\\end{align*}\n"
   ]
  },
  {
   "cell_type": "code",
   "execution_count": 103,
   "metadata": {},
   "outputs": [],
   "source": [
    "def accuracy(y, y_hat, threshold=0.5):\n",
    "    return np.int32(np.int32(y_hat > threshold) == y).sum() / y.shape[1]\n"
   ]
  },
  {
   "cell_type": "markdown",
   "metadata": {},
   "source": [
    "## Activation Function\n"
   ]
  },
  {
   "cell_type": "markdown",
   "metadata": {},
   "source": [
    "\n",
    "\n",
    "\\begin{align*}\n",
    "\\text{Sigmoid } = \\sigma{(x)} &= \\frac{1}{1 + e^{-x}}\\\\\n",
    "\\\\\n",
    "\\text{Derivative of Sigmoid } = \\frac{\\delta \\sigma{(x)}}{\\delta x} &= \\frac{-1}{(1 + e^{-x})^2} . {- e^{-x}}\\\\\n",
    "&= \\frac{1}{1 + e^{-x}} . \\frac{e^{-x}}{1 + e^{-x}}\\\\\n",
    "&= \\frac{1}{1 + e^{-x}} . \\frac{1+e^{-x} - 1}{1 + e^{-x}}\\\\\n",
    "\\frac{\\delta \\sigma{(x)}}{\\delta x} &= \\sigma(x) . (1 - \\sigma(x))\n",
    "\\end{align*}\n",
    "\n"
   ]
  },
  {
   "cell_type": "code",
   "execution_count": 104,
   "metadata": {},
   "outputs": [],
   "source": [
    "\n",
    "def sigmoid(x):\n",
    "    return 1 / (1 + np.exp(-x))\n",
    "\n",
    "\n",
    "def derivative_sigmoid(x):\n",
    "    return sigmoid(x) * (1 - sigmoid(x))\n"
   ]
  },
  {
   "cell_type": "markdown",
   "metadata": {},
   "source": [
    "## Architecture\n",
    "\n",
    "\n",
    "```sh\n",
    "                                                                        w2      b2  \n",
    "         X ---------+                                                A  |       |  A\n",
    "                    |             FORWARD PASS   >>>>           dw2  |  V       V  | db2\n",
    "                    V                                                ^             ^\n",
    "        w1 ------->>>   z1 = w1.X + b1 ----> a1 = sigmoid(z1) ---->  z2 = w2.a1 + b2  ----> a2 = sigmoid(z2) ---> L (a2, y)\n",
    "        <+--dw1--   A                                 \n",
    "                    |     <+--dz1--               <+--da1--               <+--dz2--               <+--da2--           \n",
    "        b1 ---------+                                   \n",
    "        <+--db1--                                                    <<<< BACKWARD PASS      \n",
    "```\n",
    "\n",
    "\n",
    "||||\n",
    "|-|-|-|\n",
    "| $W^{[l]}$ | $( n^{[l]} , n^{[l-1]} )$ | $dW^{[l]}$ |\n",
    "| $b^{[l]}$ | $( 1 , n^{[l]}  )$ | $db^{[l]}$ |\n",
    "| $Z^{[l]}$ | $( n^{[l]} , n^{[l-1]} )$ | $dZ^{[l]}$ |\n",
    "| $A^{[l]}$ | $( n^{[l]} , n^{[l-1]} )$ | $dA^{[l]}$ |\n"
   ]
  },
  {
   "cell_type": "markdown",
   "metadata": {},
   "source": [
    "### Forward\n",
    "\n",
    "\\begin{align*}\n",
    "z1 = w1.X + b1 \\\\\n",
    "a1 = \\sigma{(z1)} \\\\\\\\\n",
    "z2 = w2.a1 + b2 \\\\\n",
    "a2 = \\sigma{(z2)}\n",
    "\\end{align*}\n"
   ]
  },
  {
   "cell_type": "code",
   "execution_count": 105,
   "metadata": {},
   "outputs": [],
   "source": [
    "\n",
    "def forward(X, w1, b1, w2, b2):\n",
    "    z1 = (w1.T @ X) + b1\n",
    "    a1 = sigmoid(z1)\n",
    "\n",
    "    z2 = (w2.T @ a1) + b2\n",
    "    a2 = sigmoid(z2)\n",
    "\n",
    "    return a2, a1, z2, z1\n",
    "\n"
   ]
  },
  {
   "cell_type": "markdown",
   "metadata": {},
   "source": [
    "### Backward\n",
    "\n",
    "\\begin{align*}\n",
    "\\text{Loss with final layer value (output) }L(y, a2) &= - [ y \\times \\log{a2} + (1 - y) \\times \\log{(1 - a2)}] \\\\\\\\\\\\\n",
    "da2 = \\frac{\\delta L}{\\delta a2} &= - \\frac{y}{a2} + \\frac{1 - y}{1 - a2} \\\\\n",
    "dz2 = \\frac{\\delta L}{\\delta z2} &= \\frac{\\delta L}{\\delta a2} . \\frac{\\delta a2}{\\delta z2} = da2.\\frac{\\delta a2}{\\delta z2} =  -( \\frac{y}{a2} - \\frac{1 - y}{1 - a2} ) . (a2.(1-a2)) = a2 - y \\\\\n",
    "dw2 = \\frac{\\delta L}{\\delta w2} &= \\frac{\\delta L}{\\delta z2} . \\frac{\\delta z2}{\\delta w2} = dz2 . \\frac{\\delta z2}{\\delta w2} = dz2 . a1\\\\\n",
    "db2 = \\frac{\\delta L}{\\delta b2} &= \\frac{\\delta L}{\\delta z2} . \\frac{\\delta z2}{\\delta b2} = dz2 \\\\\\\\\n",
    "da1 = \\frac{\\delta L}{\\delta a1} &= \\frac{\\delta L}{\\delta z2} . \\frac{\\delta z2}{\\delta a1} = dz2 . \\frac{\\delta z2}{\\delta a1} = -( \\frac{y}{a2} - \\frac{1 - y}{1 - a2} ) . (a2.(1-a2)) . w2 = (a2 - y).w2\n",
    "\\end{align*}\n"
   ]
  },
  {
   "cell_type": "code",
   "execution_count": 106,
   "metadata": {},
   "outputs": [],
   "source": [
    "\n",
    "def backward(X, Y, a1, a2, w1, b1, w2, b2):\n",
    "    da2 = -(Y / a2) + ((1 - Y) / (1 - a2))\n",
    "    dz2 = da2 * derivative_sigmoid(a2)\n",
    "\n",
    "    dw2 = np.mean(a1 @ dz2.T, axis=1, keepdims=True)\n",
    "    db2 = np.mean(dz2, axis=1, keepdims=True)\n",
    "\n",
    "    da1 = w2 @ dz2\n",
    "    dz1 = da1 * derivative_sigmoid(a1)\n",
    "\n",
    "    dw1 = np.mean(X @ dz1.T, axis=1, keepdims=True)\n",
    "    db1 = np.mean(dz1, axis=1, keepdims=True)\n",
    "\n",
    "    return da2, da1, dz2, dz1, dw2, dw1, db2, db1\n"
   ]
  },
  {
   "cell_type": "markdown",
   "metadata": {},
   "source": [
    "\n",
    "## Gradient Descent Algorithm\n"
   ]
  },
  {
   "cell_type": "code",
   "execution_count": 107,
   "metadata": {},
   "outputs": [
    {
     "data": {
      "image/png": "[encoded data removed]",
      "text/plain": [
       "<Figure size 800x400 with 2 Axes>"
      ]
     },
     "metadata": {},
     "output_type": "display_data"
    }
   ],
   "source": [
    "\n",
    "n_layer_1_nodes = 10\n",
    "\n",
    "n_final_output = 1\n",
    "\n",
    "w1 = np.random.rand(n_features, n_layer_1_nodes)\n",
    "b1 = np.random.rand(n_layer_1_nodes, 1)\n",
    "\n",
    "w2 = np.random.rand(n_layer_1_nodes, n_final_output)\n",
    "b2 = np.random.rand(n_final_output, 1)\n",
    "\n",
    "loss_history = []\n",
    "accuracy_history = []\n",
    "lr = 0.0001\n",
    "\n",
    "\n",
    "for epoch in range(1000):\n",
    "\n",
    "    a2, a1, z2, z1 = forward(X, w1, b1, w2, b2)\n",
    "    da2, da1, dz2, dz1, dw2, dw1, db2, db1 = backward(X, y, a1, a2, w1, b1, w2, b2)\n",
    "\n",
    "    w2 = w2 - (lr * dw2)\n",
    "    b2 = b2 - (lr * db2)\n",
    "\n",
    "    w1 = w1 - (lr * dw1)\n",
    "    b1 = b1 - (lr * db1)\n",
    "\n",
    "    if epoch % 50 == 0:\n",
    "\n",
    "        prediction, _, _, _ = forward(X, w1, b1, w2, b2)\n",
    "        loss_val = loss(Y, prediction)\n",
    "        accuracy_val = accuracy(Y, prediction)\n",
    "\n",
    "        loss_history.append(loss_val)\n",
    "        accuracy_history.append(accuracy_val)\n",
    "a2.shape\n",
    "fig, ax = plt.subplots(1, 2, figsize=(8, 4))\n",
    "ax[0].plot(accuracy_history, \"o-\")\n",
    "ax[1].plot(loss_history, \"o-\")\n",
    "\n",
    "fig.tight_layout()\n",
    "fig.show(warn=False)\n",
    "\n"
   ]
  }
 ],
 "metadata": {
  "kernelspec": {
   "display_name": ".venv",
   "language": "python",
   "name": "python3"
  },
  "language_info": {
   "codemirror_mode": {
    "name": "ipython",
    "version": 3
   },
   "file_extension": ".py",
   "mimetype": "text/x-python",
   "name": "python",
   "nbconvert_exporter": "python",
   "pygments_lexer": "ipython3",
   "version": "3.10.13"
  }
 },
 "nbformat": 4,
 "nbformat_minor": 2
}
