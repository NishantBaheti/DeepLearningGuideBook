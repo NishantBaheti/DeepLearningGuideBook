{
 "cells": [
  {
   "cell_type": "markdown",
   "metadata": {},
   "source": [
    "# What is log\n",
    "\n",
    "Solving for x\n",
    "\n",
    "$e^x = b$\n",
    "\n",
    "raising the euler's number to what value that \n",
    "it becomes b.\n",
    "\n",
    "$log_e(b) = x$\n"
   ]
  },
  {
   "cell_type": "code",
   "execution_count": 1,
   "metadata": {},
   "outputs": [
    {
     "name": "stdout",
     "output_type": "stream",
     "text": [
      "1.6486586255873816\n",
      "5.2\n"
     ]
    }
   ],
   "source": [
    "import numpy as np \n",
    "\n",
    "b = 5.2 \n",
    "\n",
    "print(np.log(b))\n",
    "\n",
    "print(np.exp(np.log(b)))"
   ]
  }
 ],
 "metadata": {
  "kernelspec": {
   "display_name": "Python 3.8.3 64-bit ('base': conda)",
   "language": "python",
   "name": "python383jvsc74a57bd01da5964c5502736b4e0a0c4398fb3b913682175f516e99bd48540f11726a612c"
  },
  "language_info": {
   "codemirror_mode": {
    "name": "ipython",
    "version": 3
   },
   "file_extension": ".py",
   "mimetype": "text/x-python",
   "name": "python",
   "nbconvert_exporter": "python",
   "pygments_lexer": "ipython3",
   "version": "3.8.3"
  }
 },
 "nbformat": 4,
 "nbformat_minor": 4
}
